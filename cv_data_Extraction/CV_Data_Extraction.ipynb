{
  "nbformat": 4,
  "nbformat_minor": 0,
  "metadata": {
    "colab": {
      "provenance": [],
      "authorship_tag": "ABX9TyN7yDMN7ffcM3tvaOYPjd+X",
      "include_colab_link": true
    },
    "kernelspec": {
      "name": "python3",
      "display_name": "Python 3"
    },
    "language_info": {
      "name": "python"
    }
  },
  "cells": [
    {
      "cell_type": "markdown",
      "metadata": {
        "id": "view-in-github",
        "colab_type": "text"
      },
      "source": [
        "<a href=\"https://colab.research.google.com/github/nuwandianusarani/HireGenius/blob/IT21467448-Cv-Shortlisting-and-Initial-Screening/cv_data_Extraction/CV_Data_Extraction.ipynb\" target=\"_parent\"><img src=\"https://colab.research.google.com/assets/colab-badge.svg\" alt=\"Open In Colab\"/></a>"
      ]
    },
    {
      "cell_type": "code",
      "execution_count": null,
      "metadata": {
        "colab": {
          "base_uri": "https://localhost:8080/"
        },
        "id": "AiPzsgLhq646",
        "outputId": "d6473dea-56f6-4216-cd69-90f01f487025"
      },
      "outputs": [
        {
          "output_type": "stream",
          "name": "stdout",
          "text": [
            "Collecting PyPDF2\n",
            "  Downloading pypdf2-3.0.1-py3-none-any.whl.metadata (6.8 kB)\n",
            "Downloading pypdf2-3.0.1-py3-none-any.whl (232 kB)\n",
            "\u001b[2K   \u001b[90m━━━━━━━━━━━━━━━━━━━━━━━━━━━━━━━━━━━━━━━━\u001b[0m \u001b[32m232.6/232.6 kB\u001b[0m \u001b[31m4.4 MB/s\u001b[0m eta \u001b[36m0:00:00\u001b[0m\n",
            "\u001b[?25hInstalling collected packages: PyPDF2\n",
            "Successfully installed PyPDF2-3.0.1\n",
            "Requirement already satisfied: spacy in /usr/local/lib/python3.10/dist-packages (3.7.5)\n",
            "Requirement already satisfied: spacy-legacy<3.1.0,>=3.0.11 in /usr/local/lib/python3.10/dist-packages (from spacy) (3.0.12)\n",
            "Requirement already satisfied: spacy-loggers<2.0.0,>=1.0.0 in /usr/local/lib/python3.10/dist-packages (from spacy) (1.0.5)\n",
            "Requirement already satisfied: murmurhash<1.1.0,>=0.28.0 in /usr/local/lib/python3.10/dist-packages (from spacy) (1.0.10)\n",
            "Requirement already satisfied: cymem<2.1.0,>=2.0.2 in /usr/local/lib/python3.10/dist-packages (from spacy) (2.0.8)\n",
            "Requirement already satisfied: preshed<3.1.0,>=3.0.2 in /usr/local/lib/python3.10/dist-packages (from spacy) (3.0.9)\n",
            "Requirement already satisfied: thinc<8.3.0,>=8.2.2 in /usr/local/lib/python3.10/dist-packages (from spacy) (8.2.5)\n",
            "Requirement already satisfied: wasabi<1.2.0,>=0.9.1 in /usr/local/lib/python3.10/dist-packages (from spacy) (1.1.3)\n",
            "Requirement already satisfied: srsly<3.0.0,>=2.4.3 in /usr/local/lib/python3.10/dist-packages (from spacy) (2.4.8)\n",
            "Requirement already satisfied: catalogue<2.1.0,>=2.0.6 in /usr/local/lib/python3.10/dist-packages (from spacy) (2.0.10)\n",
            "Requirement already satisfied: weasel<0.5.0,>=0.1.0 in /usr/local/lib/python3.10/dist-packages (from spacy) (0.4.1)\n",
            "Requirement already satisfied: typer<1.0.0,>=0.3.0 in /usr/local/lib/python3.10/dist-packages (from spacy) (0.12.5)\n",
            "Requirement already satisfied: tqdm<5.0.0,>=4.38.0 in /usr/local/lib/python3.10/dist-packages (from spacy) (4.66.6)\n",
            "Requirement already satisfied: requests<3.0.0,>=2.13.0 in /usr/local/lib/python3.10/dist-packages (from spacy) (2.32.3)\n",
            "Requirement already satisfied: pydantic!=1.8,!=1.8.1,<3.0.0,>=1.7.4 in /usr/local/lib/python3.10/dist-packages (from spacy) (2.9.2)\n",
            "Requirement already satisfied: jinja2 in /usr/local/lib/python3.10/dist-packages (from spacy) (3.1.4)\n",
            "Requirement already satisfied: setuptools in /usr/local/lib/python3.10/dist-packages (from spacy) (75.1.0)\n",
            "Requirement already satisfied: packaging>=20.0 in /usr/local/lib/python3.10/dist-packages (from spacy) (24.1)\n",
            "Requirement already satisfied: langcodes<4.0.0,>=3.2.0 in /usr/local/lib/python3.10/dist-packages (from spacy) (3.4.1)\n",
            "Requirement already satisfied: numpy>=1.19.0 in /usr/local/lib/python3.10/dist-packages (from spacy) (1.26.4)\n",
            "Requirement already satisfied: language-data>=1.2 in /usr/local/lib/python3.10/dist-packages (from langcodes<4.0.0,>=3.2.0->spacy) (1.2.0)\n",
            "Requirement already satisfied: annotated-types>=0.6.0 in /usr/local/lib/python3.10/dist-packages (from pydantic!=1.8,!=1.8.1,<3.0.0,>=1.7.4->spacy) (0.7.0)\n",
            "Requirement already satisfied: pydantic-core==2.23.4 in /usr/local/lib/python3.10/dist-packages (from pydantic!=1.8,!=1.8.1,<3.0.0,>=1.7.4->spacy) (2.23.4)\n",
            "Requirement already satisfied: typing-extensions>=4.6.1 in /usr/local/lib/python3.10/dist-packages (from pydantic!=1.8,!=1.8.1,<3.0.0,>=1.7.4->spacy) (4.12.2)\n",
            "Requirement already satisfied: charset-normalizer<4,>=2 in /usr/local/lib/python3.10/dist-packages (from requests<3.0.0,>=2.13.0->spacy) (3.4.0)\n",
            "Requirement already satisfied: idna<4,>=2.5 in /usr/local/lib/python3.10/dist-packages (from requests<3.0.0,>=2.13.0->spacy) (3.10)\n",
            "Requirement already satisfied: urllib3<3,>=1.21.1 in /usr/local/lib/python3.10/dist-packages (from requests<3.0.0,>=2.13.0->spacy) (2.2.3)\n",
            "Requirement already satisfied: certifi>=2017.4.17 in /usr/local/lib/python3.10/dist-packages (from requests<3.0.0,>=2.13.0->spacy) (2024.8.30)\n",
            "Requirement already satisfied: blis<0.8.0,>=0.7.8 in /usr/local/lib/python3.10/dist-packages (from thinc<8.3.0,>=8.2.2->spacy) (0.7.11)\n",
            "Requirement already satisfied: confection<1.0.0,>=0.0.1 in /usr/local/lib/python3.10/dist-packages (from thinc<8.3.0,>=8.2.2->spacy) (0.1.5)\n",
            "Requirement already satisfied: click>=8.0.0 in /usr/local/lib/python3.10/dist-packages (from typer<1.0.0,>=0.3.0->spacy) (8.1.7)\n",
            "Requirement already satisfied: shellingham>=1.3.0 in /usr/local/lib/python3.10/dist-packages (from typer<1.0.0,>=0.3.0->spacy) (1.5.4)\n",
            "Requirement already satisfied: rich>=10.11.0 in /usr/local/lib/python3.10/dist-packages (from typer<1.0.0,>=0.3.0->spacy) (13.9.4)\n",
            "Requirement already satisfied: cloudpathlib<1.0.0,>=0.7.0 in /usr/local/lib/python3.10/dist-packages (from weasel<0.5.0,>=0.1.0->spacy) (0.20.0)\n",
            "Requirement already satisfied: smart-open<8.0.0,>=5.2.1 in /usr/local/lib/python3.10/dist-packages (from weasel<0.5.0,>=0.1.0->spacy) (7.0.5)\n",
            "Requirement already satisfied: MarkupSafe>=2.0 in /usr/local/lib/python3.10/dist-packages (from jinja2->spacy) (3.0.2)\n",
            "Requirement already satisfied: marisa-trie>=0.7.7 in /usr/local/lib/python3.10/dist-packages (from language-data>=1.2->langcodes<4.0.0,>=3.2.0->spacy) (1.2.1)\n",
            "Requirement already satisfied: markdown-it-py>=2.2.0 in /usr/local/lib/python3.10/dist-packages (from rich>=10.11.0->typer<1.0.0,>=0.3.0->spacy) (3.0.0)\n",
            "Requirement already satisfied: pygments<3.0.0,>=2.13.0 in /usr/local/lib/python3.10/dist-packages (from rich>=10.11.0->typer<1.0.0,>=0.3.0->spacy) (2.18.0)\n",
            "Requirement already satisfied: wrapt in /usr/local/lib/python3.10/dist-packages (from smart-open<8.0.0,>=5.2.1->weasel<0.5.0,>=0.1.0->spacy) (1.16.0)\n",
            "Requirement already satisfied: mdurl~=0.1 in /usr/local/lib/python3.10/dist-packages (from markdown-it-py>=2.2.0->rich>=10.11.0->typer<1.0.0,>=0.3.0->spacy) (0.1.2)\n",
            "Collecting en-core-web-sm==3.7.1\n",
            "  Downloading https://github.com/explosion/spacy-models/releases/download/en_core_web_sm-3.7.1/en_core_web_sm-3.7.1-py3-none-any.whl (12.8 MB)\n",
            "\u001b[2K     \u001b[90m━━━━━━━━━━━━━━━━━━━━━━━━━━━━━━━━━━━━━━━━\u001b[0m \u001b[32m12.8/12.8 MB\u001b[0m \u001b[31m81.1 MB/s\u001b[0m eta \u001b[36m0:00:00\u001b[0m\n",
            "\u001b[?25hRequirement already satisfied: spacy<3.8.0,>=3.7.2 in /usr/local/lib/python3.10/dist-packages (from en-core-web-sm==3.7.1) (3.7.5)\n",
            "Requirement already satisfied: spacy-legacy<3.1.0,>=3.0.11 in /usr/local/lib/python3.10/dist-packages (from spacy<3.8.0,>=3.7.2->en-core-web-sm==3.7.1) (3.0.12)\n",
            "Requirement already satisfied: spacy-loggers<2.0.0,>=1.0.0 in /usr/local/lib/python3.10/dist-packages (from spacy<3.8.0,>=3.7.2->en-core-web-sm==3.7.1) (1.0.5)\n",
            "Requirement already satisfied: murmurhash<1.1.0,>=0.28.0 in /usr/local/lib/python3.10/dist-packages (from spacy<3.8.0,>=3.7.2->en-core-web-sm==3.7.1) (1.0.10)\n",
            "Requirement already satisfied: cymem<2.1.0,>=2.0.2 in /usr/local/lib/python3.10/dist-packages (from spacy<3.8.0,>=3.7.2->en-core-web-sm==3.7.1) (2.0.8)\n",
            "Requirement already satisfied: preshed<3.1.0,>=3.0.2 in /usr/local/lib/python3.10/dist-packages (from spacy<3.8.0,>=3.7.2->en-core-web-sm==3.7.1) (3.0.9)\n",
            "Requirement already satisfied: thinc<8.3.0,>=8.2.2 in /usr/local/lib/python3.10/dist-packages (from spacy<3.8.0,>=3.7.2->en-core-web-sm==3.7.1) (8.2.5)\n",
            "Requirement already satisfied: wasabi<1.2.0,>=0.9.1 in /usr/local/lib/python3.10/dist-packages (from spacy<3.8.0,>=3.7.2->en-core-web-sm==3.7.1) (1.1.3)\n",
            "Requirement already satisfied: srsly<3.0.0,>=2.4.3 in /usr/local/lib/python3.10/dist-packages (from spacy<3.8.0,>=3.7.2->en-core-web-sm==3.7.1) (2.4.8)\n",
            "Requirement already satisfied: catalogue<2.1.0,>=2.0.6 in /usr/local/lib/python3.10/dist-packages (from spacy<3.8.0,>=3.7.2->en-core-web-sm==3.7.1) (2.0.10)\n",
            "Requirement already satisfied: weasel<0.5.0,>=0.1.0 in /usr/local/lib/python3.10/dist-packages (from spacy<3.8.0,>=3.7.2->en-core-web-sm==3.7.1) (0.4.1)\n",
            "Requirement already satisfied: typer<1.0.0,>=0.3.0 in /usr/local/lib/python3.10/dist-packages (from spacy<3.8.0,>=3.7.2->en-core-web-sm==3.7.1) (0.12.5)\n",
            "Requirement already satisfied: tqdm<5.0.0,>=4.38.0 in /usr/local/lib/python3.10/dist-packages (from spacy<3.8.0,>=3.7.2->en-core-web-sm==3.7.1) (4.66.6)\n",
            "Requirement already satisfied: requests<3.0.0,>=2.13.0 in /usr/local/lib/python3.10/dist-packages (from spacy<3.8.0,>=3.7.2->en-core-web-sm==3.7.1) (2.32.3)\n",
            "Requirement already satisfied: pydantic!=1.8,!=1.8.1,<3.0.0,>=1.7.4 in /usr/local/lib/python3.10/dist-packages (from spacy<3.8.0,>=3.7.2->en-core-web-sm==3.7.1) (2.9.2)\n",
            "Requirement already satisfied: jinja2 in /usr/local/lib/python3.10/dist-packages (from spacy<3.8.0,>=3.7.2->en-core-web-sm==3.7.1) (3.1.4)\n",
            "Requirement already satisfied: setuptools in /usr/local/lib/python3.10/dist-packages (from spacy<3.8.0,>=3.7.2->en-core-web-sm==3.7.1) (75.1.0)\n",
            "Requirement already satisfied: packaging>=20.0 in /usr/local/lib/python3.10/dist-packages (from spacy<3.8.0,>=3.7.2->en-core-web-sm==3.7.1) (24.1)\n",
            "Requirement already satisfied: langcodes<4.0.0,>=3.2.0 in /usr/local/lib/python3.10/dist-packages (from spacy<3.8.0,>=3.7.2->en-core-web-sm==3.7.1) (3.4.1)\n",
            "Requirement already satisfied: numpy>=1.19.0 in /usr/local/lib/python3.10/dist-packages (from spacy<3.8.0,>=3.7.2->en-core-web-sm==3.7.1) (1.26.4)\n",
            "Requirement already satisfied: language-data>=1.2 in /usr/local/lib/python3.10/dist-packages (from langcodes<4.0.0,>=3.2.0->spacy<3.8.0,>=3.7.2->en-core-web-sm==3.7.1) (1.2.0)\n",
            "Requirement already satisfied: annotated-types>=0.6.0 in /usr/local/lib/python3.10/dist-packages (from pydantic!=1.8,!=1.8.1,<3.0.0,>=1.7.4->spacy<3.8.0,>=3.7.2->en-core-web-sm==3.7.1) (0.7.0)\n",
            "Requirement already satisfied: pydantic-core==2.23.4 in /usr/local/lib/python3.10/dist-packages (from pydantic!=1.8,!=1.8.1,<3.0.0,>=1.7.4->spacy<3.8.0,>=3.7.2->en-core-web-sm==3.7.1) (2.23.4)\n",
            "Requirement already satisfied: typing-extensions>=4.6.1 in /usr/local/lib/python3.10/dist-packages (from pydantic!=1.8,!=1.8.1,<3.0.0,>=1.7.4->spacy<3.8.0,>=3.7.2->en-core-web-sm==3.7.1) (4.12.2)\n",
            "Requirement already satisfied: charset-normalizer<4,>=2 in /usr/local/lib/python3.10/dist-packages (from requests<3.0.0,>=2.13.0->spacy<3.8.0,>=3.7.2->en-core-web-sm==3.7.1) (3.4.0)\n",
            "Requirement already satisfied: idna<4,>=2.5 in /usr/local/lib/python3.10/dist-packages (from requests<3.0.0,>=2.13.0->spacy<3.8.0,>=3.7.2->en-core-web-sm==3.7.1) (3.10)\n",
            "Requirement already satisfied: urllib3<3,>=1.21.1 in /usr/local/lib/python3.10/dist-packages (from requests<3.0.0,>=2.13.0->spacy<3.8.0,>=3.7.2->en-core-web-sm==3.7.1) (2.2.3)\n",
            "Requirement already satisfied: certifi>=2017.4.17 in /usr/local/lib/python3.10/dist-packages (from requests<3.0.0,>=2.13.0->spacy<3.8.0,>=3.7.2->en-core-web-sm==3.7.1) (2024.8.30)\n",
            "Requirement already satisfied: blis<0.8.0,>=0.7.8 in /usr/local/lib/python3.10/dist-packages (from thinc<8.3.0,>=8.2.2->spacy<3.8.0,>=3.7.2->en-core-web-sm==3.7.1) (0.7.11)\n",
            "Requirement already satisfied: confection<1.0.0,>=0.0.1 in /usr/local/lib/python3.10/dist-packages (from thinc<8.3.0,>=8.2.2->spacy<3.8.0,>=3.7.2->en-core-web-sm==3.7.1) (0.1.5)\n",
            "Requirement already satisfied: click>=8.0.0 in /usr/local/lib/python3.10/dist-packages (from typer<1.0.0,>=0.3.0->spacy<3.8.0,>=3.7.2->en-core-web-sm==3.7.1) (8.1.7)\n",
            "Requirement already satisfied: shellingham>=1.3.0 in /usr/local/lib/python3.10/dist-packages (from typer<1.0.0,>=0.3.0->spacy<3.8.0,>=3.7.2->en-core-web-sm==3.7.1) (1.5.4)\n",
            "Requirement already satisfied: rich>=10.11.0 in /usr/local/lib/python3.10/dist-packages (from typer<1.0.0,>=0.3.0->spacy<3.8.0,>=3.7.2->en-core-web-sm==3.7.1) (13.9.4)\n",
            "Requirement already satisfied: cloudpathlib<1.0.0,>=0.7.0 in /usr/local/lib/python3.10/dist-packages (from weasel<0.5.0,>=0.1.0->spacy<3.8.0,>=3.7.2->en-core-web-sm==3.7.1) (0.20.0)\n",
            "Requirement already satisfied: smart-open<8.0.0,>=5.2.1 in /usr/local/lib/python3.10/dist-packages (from weasel<0.5.0,>=0.1.0->spacy<3.8.0,>=3.7.2->en-core-web-sm==3.7.1) (7.0.5)\n",
            "Requirement already satisfied: MarkupSafe>=2.0 in /usr/local/lib/python3.10/dist-packages (from jinja2->spacy<3.8.0,>=3.7.2->en-core-web-sm==3.7.1) (3.0.2)\n",
            "Requirement already satisfied: marisa-trie>=0.7.7 in /usr/local/lib/python3.10/dist-packages (from language-data>=1.2->langcodes<4.0.0,>=3.2.0->spacy<3.8.0,>=3.7.2->en-core-web-sm==3.7.1) (1.2.1)\n",
            "Requirement already satisfied: markdown-it-py>=2.2.0 in /usr/local/lib/python3.10/dist-packages (from rich>=10.11.0->typer<1.0.0,>=0.3.0->spacy<3.8.0,>=3.7.2->en-core-web-sm==3.7.1) (3.0.0)\n",
            "Requirement already satisfied: pygments<3.0.0,>=2.13.0 in /usr/local/lib/python3.10/dist-packages (from rich>=10.11.0->typer<1.0.0,>=0.3.0->spacy<3.8.0,>=3.7.2->en-core-web-sm==3.7.1) (2.18.0)\n",
            "Requirement already satisfied: wrapt in /usr/local/lib/python3.10/dist-packages (from smart-open<8.0.0,>=5.2.1->weasel<0.5.0,>=0.1.0->spacy<3.8.0,>=3.7.2->en-core-web-sm==3.7.1) (1.16.0)\n",
            "Requirement already satisfied: mdurl~=0.1 in /usr/local/lib/python3.10/dist-packages (from markdown-it-py>=2.2.0->rich>=10.11.0->typer<1.0.0,>=0.3.0->spacy<3.8.0,>=3.7.2->en-core-web-sm==3.7.1) (0.1.2)\n",
            "\u001b[38;5;2m✔ Download and installation successful\u001b[0m\n",
            "You can now load the package via spacy.load('en_core_web_sm')\n",
            "\u001b[38;5;3m⚠ Restart to reload dependencies\u001b[0m\n",
            "If you are in a Jupyter or Colab notebook, you may need to restart Python in\n",
            "order to load all the package's dependencies. You can do this by selecting the\n",
            "'Restart kernel' or 'Restart runtime' option.\n"
          ]
        }
      ],
      "source": [
        "!pip install PyPDF2\n",
        "!pip install spacy\n",
        "!python -m spacy download en_core_web_sm\n"
      ]
    },
    {
      "cell_type": "code",
      "source": [
        "import PyPDF2\n",
        "import spacy\n",
        "import re\n"
      ],
      "metadata": {
        "id": "ffRJdmZ9rFwG"
      },
      "execution_count": null,
      "outputs": []
    },
    {
      "cell_type": "code",
      "source": [
        "def extract_text_from_pdf(pdf_path):\n",
        "    with open(pdf_path, 'rb') as file:\n",
        "        reader = PyPDF2.PdfReader(file)\n",
        "        text = \"\"\n",
        "        for page_num in range(len(reader.pages)):\n",
        "            page = reader.pages[page_num]\n",
        "            text += page.extract_text()\n",
        "    return text\n",
        "\n",
        "# Path to your PDF file\n",
        "pdf_path = '/content/Buddhika_Chathuranga_SE - V.M.B.C. KARUNARATHNA.pdf'\n",
        "cv_text = extract_text_from_pdf(pdf_path)\n",
        "print(cv_text)\n"
      ],
      "metadata": {
        "colab": {
          "base_uri": "https://localhost:8080/"
        },
        "id": "z4LJoVW-rhF2",
        "outputId": "ab0bf02a-30d1-4093-da10-ff28fdafb3b4"
      },
      "execution_count": null,
      "outputs": [
        {
          "output_type": "stream",
          "name": "stdout",
          "text": [
            "I am a student software developer with the ability to adapt to\n",
            "any technology stack. Good at work under pressure and\n",
            "excited to learn new technologies. Likes to deliver on time and\n",
            "agile in any condition. Open-minded and loves to contribute\n",
            "open-source.\n",
            "Reach Me\n",
            "Professional Skills\n",
            "Buddhika Chathuranga\n",
            "Education\n",
            "Work Experience\n",
            "Publications and Certifications\n",
            "Projects\n",
            "13 / 6B, Pubudugama,\n",
            "Kospalawinna Rd,\n",
            "Ratnapura.\n",
            "071 - 176 53 56\n",
            "vmbckscc456@gmail.com\n",
            "buddhikac96.github.io\n",
            "buddhikac96  ( LinkedIn )\n",
            "buddhikac96  ( GitHub )\n",
            "buddhikac96  ( Stackoverflow )\n",
            "runtimeerror  ( Medium )\n",
            "hackerbuddy96  ( Twitter )\n",
            "Windows service wrapper Yaml configuration support\n",
            "XML Schema validation\n",
            "Tools : C#, DotNet, Visual Studio, GitHub\n",
            "Internal tools development - Unit testing tool\n",
            "Code refactoring, API Development, Project Planning - Car\n",
            "Rental System\n",
            "Tools : C#, DotNet, Angular, Visual Studio, BitBucket\n",
            "Conducted knowledge sharing session series\n",
            "(Asynchronous programming)\n",
            "Other activities : DS meetings, Futsal games, Pool\n",
            "competition\n",
            "Programming Languages\n",
            "Java, C#, Python, JavaScript, Elixir\n",
            "Frameworks\n",
            "Antlr4, DotNet, Angular\n",
            "DataBase\n",
            "MySQL, SQL, MongoDB\n",
            "Version Controlling\n",
            "Git, GitHub, BitBucket, GitHub Desktop, GitKraken\n",
            "Non-technical skills\n",
            "Leadership, Public Speaking,   Team Player\n",
            "Windows Service Wrapper ( WinSW )\n",
            "Google Summer of Code 2020\n",
            "Project : https://github.com/winsw/winsw\n",
            "Blog: WinSW - YAML Config Support\n",
            "Technologies: C#, DotNet, Visual Studio, GitHubWindows service wrapper is a tool that allows running Jenkins as a\n",
            "service in the Windows machine. WinSW was configured by an XML\n",
            "file. I updated WinSW to be configured by the YAML configuration file\n",
            "under GSoC2020.\n",
            "Simply - Research Project ( Ongoing )\n",
            "Simple extensible programming language for kids\n",
            "Project : https://github.com/OdinsVault\n",
            "Technologies: Java, Antlr4, SpringBoot, ReactSimply is a web-oriented programming language that is being\n",
            "developed for kids to learn to program easily. Simply consists of a\n",
            "programming language, runtime visualizer, and a web based\n",
            "coding/learning platform. I am developing the source to source\n",
            "compiler.\n",
            "Calang\n",
            "Simple calculator based PL\n",
            "Project : https://github.com/buddhikac96/calang\n",
            "Technologies: Java, Antlr4Calang is a simple programming language that compiles into Java.\n",
            "Calang is an educational project that I developed to learn compiler\n",
            "theory.\n",
            "University of Moratuwa\n",
            "Faculty of Information Technology | 2016 - 2021\n",
            "SGPA - 3.28 (6th semester)\n",
            "Sivali Central College\n",
            "A/L - Common Stream (Mathematics, Physics, ICT)\n",
            "A A B (Mathematics - B) | Z-Score - 2.37\n",
            "Island 1st - Common Stream (2015)\n",
            "Student Developer | Google Summer of Code 2020\n",
            "Jenkins Project | Windows Service Wrapper\n",
            "Software Engineer | Intern\n",
            "Eyepax IT Consulting (Pvt.) Ltd.\n",
            "Industry awareness sessions\n",
            "Java course\n",
            "Vicerant Institute\n",
            "Founder | Lecturer\n",
            "Review of Introductory programming languages for novice\n",
            "learners (Research - Ongoing)\n",
            "Java Application Performance and Memory Management\n",
            "Course (Ongoing) - (Udemy)\n",
            "AWS Certified Cloud Practitioner (Udemy )\n",
            "Google Cloud Platform Fundamentals (Coursera)\n",
            "Presented in DevOps World Conf 2020\n",
            "Other Skills\n",
            "Design Patterns, Project Planning, JIRAProjects\n",
            "loki\n",
            "Source code localizer for programming languages\n",
            "Project : https://github.com/odinsvault/loki\n",
            "Technologies: Java, YAMLloki is a tool that allows users to write programs in their native\n",
            "language. It allows us to localize source codes. This project is a part\n",
            "of Simply programming language, which allows students to learn\n",
            "basic programming concepts in their native language by using simple\n",
            "syntax style.\n",
            "goodyaml\n",
            "Schema validating tool for YAML\n",
            "Project : https://github.com/buddhikac96/goodyaml\n",
            "Technologies: C#, DotNet, YamlDotNetgoodyaml is a command-line tool that facilitates validating YAML\n",
            "schema. Users can use JSON schema to validate YAML schema.\n",
            "Quality Room\n",
            "IoT based room environment control system\n",
            "Project : https://github.com/buddhikac96/QualityRoom\n",
            "Technologies: Atmega32, C++, RabbitMQ, NodeJS, GrafanaQualityRoom is an IoT-based room environment quality control\n",
            "system that measures temperature, humidity, sound intensity, and air\n",
            "quality. It sends a message to the user if some parameter exceeds\n",
            "the pre-defined threshold value. The real-time values of the sensors\n",
            "are displayed in a dashboard.\n",
            "Find Your Tutor\n",
            "Web application\n",
            "Project : https://github.com/buddhikac96/findthetutor\n",
            "Technologies: Angular, TypeScript, NodeJS, MySQLFind Your Tutor is a platform that facilitates the interaction between\n",
            "students and private tutors. This enables the students to find private\n",
            "tutors according to their educational requirements and the tutors to\n",
            "find tuition opportunities nearby. I contributed in front-end\n",
            "development and system testing.Non-related referees Dr. Supunmali Ahangama\n",
            "Director/Undergraduate Studies,\n",
            "Department of Information Technology,\n",
            "Fac of IT. University of Moratuwa,\n",
            "Katubedda, Moratuwa. Sri Lanka.\n",
            "Mobile: +94 71 486 66 52\n",
            "Email: supunmali@uom.lkMr. Kasun Dissanayake\n",
            "Tech lead,\n",
            "Eyepax IT Consulting (Pvt.) Ltd.\n",
            "Colombo 03.\n",
            "Mobile: +94 71 153 8675\n",
            "Email: kasun.d@eyepax.com\n",
            "Interests\n",
            "Open source contributing\n",
            "Blogging\n",
            "Sports : Cricket, Badminton, Chess\n",
            "Workingout\n",
            "Volunteering\n",
            "Other Experiences\n",
            "Member - INTECS, Faculty of IT, University of Moratuwa\n",
            "Batch representative of the INTECS ( Level 1, Level 2 )\n",
            "Company Coordinator - Are You Ready (2018)\n",
            "Achievements\n",
            "1st Place - Tech Coders v1.0   (2018)\n",
            "Competitive programming competition organized by\n",
            "tech seekers community for university students.\n",
            "Bronze Medal - Week of Code 30\n",
            "Silver Medal - Hour Rank 26\n",
            "1 hour rapid competitive programming competition by\n",
            "Hackerrank.com\n",
            "2nd Place - Mora Xtream coding competition  \n",
            "Competitive programming competition organized by IEEE\n",
            "society of   University of Moratuwa\n",
            "2nd Place - Coderush 2k17 (2017)\n",
            "Competitive programming competition organized by faculty\n",
            "of IT of University of Moratuwa\n",
            "1 week long competitive programming competition by\n",
            "Hackerrank.com\n",
            "Bronze Medal - Week of Code 34\n",
            "Bronze Medal - Week of Code 36\n",
            "Finalist - RealHack 1.0\n",
            "Hackathon competition organized by university of Kelaniya\n",
            "Finalist - Hackstat 2.0\n",
            "Datathon organized by the Stat Circle of the\n",
            "University of Colombo\n",
            "1st Place - Orchestra (2013)\n",
            "All island school music competition\n",
            "1st Place - Choir (2013)\n",
            "All island school music competition\n",
            "1st Place - School Chess Championship (Under 11)\n",
            "1st Place - Open Chess Championship (Kalutara\n",
            "Chess Club) (Under 13)\n",
            "Industry Awareness Sessions\n",
            "Sivali Central College, Ferguson High School, Mihindu Vidyalaya\n",
            "Organized by Vicerant\n",
            "Finalist - HackDev 2020 ( Ongoing )\n",
            "National youth innovation challenge\n",
            "Board Price - School Chess Championship ( 1st Board )\n",
            "3rd Place - School Badminton Championship\n",
            "(Sabaragamuwa Province)\n",
            "Industry Awareness Sessions\n",
            "Senarath Paranawithaana National School\n",
            "Organized by INTECS\n",
            "Member - School Western Band\n",
            "President - School Science Club\n",
            "Sport activities (School) - Chess, Boxing, Badminton,\n",
            "                                                      Gymnastic, Cricket, Futsal\n",
            "3rd Place - Orchestra (2012)\n",
            "All island school music competition\n"
          ]
        }
      ]
    },
    {
      "cell_type": "code",
      "source": [
        "nlp = spacy.load('en_core_web_sm')\n"
      ],
      "metadata": {
        "id": "HnqfIY6jrtVZ"
      },
      "execution_count": null,
      "outputs": []
    },
    {
      "cell_type": "code",
      "source": [
        "import spacy\n",
        "from collections import Counter\n",
        "\n",
        "# Load SpaCy model\n",
        "nlp = spacy.load(\"en_core_web_sm\")\n",
        "\n",
        "def extract_soft_skills(text):\n",
        "    # Define a list of important soft skills for software engineers\n",
        "    soft_skills = [\n",
        "        'communication', 'teamwork', 'problem-solving', 'adaptability', 'critical thinking',\n",
        "        'time management', 'collaboration', 'creativity', 'attention to detail', 'leadership',\n",
        "        'self-motivation', 'organization', 'empathy', 'conflict resolution', 'negotiation',\n",
        "        'decision making', 'flexibility', 'accountability', 'active listening', 'resilience'\n",
        "    ]\n",
        "\n",
        "    # Convert soft skills to lowercase for consistency\n",
        "    soft_skills_lower = [skill.lower() for skill in soft_skills]\n",
        "\n",
        "    # Initialize a counter to track occurrences of each skill\n",
        "    skill_counts = Counter()\n",
        "\n",
        "    # Process text with SpaCy\n",
        "    doc = nlp(text)\n",
        "\n",
        "    # Define contextual indicators for soft skills\n",
        "    context_indicators = [\"strong\", \"excellent\", \"proficient\", \"skills in\", \"demonstrated\", \"ability to\", \"experienced in\"]\n",
        "\n",
        "    # Iterate over sentences to find soft skills in relevant contexts\n",
        "    for sent in doc.sents:\n",
        "        sentence_text = sent.text.lower()\n",
        "        for skill in soft_skills_lower:\n",
        "            if skill in sentence_text:\n",
        "                # Check if any context indicators are present near the skill\n",
        "                if any(indicator in sentence_text for indicator in context_indicators):\n",
        "                    skill_counts[skill] += 2  # Higher weighting for contextual relevance\n",
        "                else:\n",
        "                    skill_counts[skill] += 1  # Regular weighting\n",
        "\n",
        "    # Find the top soft skills based on frequency and contextual weighting\n",
        "    most_relevant_skills = skill_counts.most_common(5)  # Top 5 skills, for example\n",
        "\n",
        "    return [(skill.title(), count) for skill, count in most_relevant_skills]\n",
        "\n",
        "# Example usage\n",
        "text = \"\"\"\n",
        "I am known for my strong communication and teamwork skills, which have helped me lead and collaborate effectively on software projects.\n",
        "My problem-solving and adaptability have been key to handling complex software development tasks, and my critical thinking has driven project success.\n",
        "\"\"\"\n",
        "soft_skills = extract_soft_skills(cv_text)\n",
        "\n",
        "print(\"Most Relevant Soft Skills:\")\n",
        "for skill, count in soft_skills:\n",
        "    print(f\"- {skill} (Contextual Weight: {count})\")\n"
      ],
      "metadata": {
        "colab": {
          "base_uri": "https://localhost:8080/"
        },
        "id": "HCI6_fUUKO3t",
        "outputId": "0d2d7df0-21e9-4cbb-bcf5-dc510dd99294"
      },
      "execution_count": null,
      "outputs": [
        {
          "output_type": "stream",
          "name": "stdout",
          "text": [
            "Most Relevant Soft Skills:\n",
            "- Leadership (Contextual Weight: 1)\n"
          ]
        }
      ]
    },
    {
      "cell_type": "code",
      "source": [
        "import spacy\n",
        "from collections import Counter\n",
        "from transformers import pipeline\n",
        "\n",
        "# Load spaCy and transformers\n",
        "nlp = spacy.load(\"en_core_web_sm\")\n",
        "# Pre-trained transformer model for zero-shot classification\n",
        "classifier = pipeline(\"zero-shot-classification\", model=\"facebook/bart-large-mnli\")\n",
        "\n",
        "# Define a function to extract soft skills based on contextual analysis\n",
        "def extract_soft_skills(cv_text):\n",
        "    # Define a list of common soft skills in software engineering\n",
        "    soft_skills_list = [\n",
        "        'communication', 'teamwork', 'leadership', 'problem-solving', 'adaptability',\n",
        "        'time management', 'critical thinking', 'collaboration', 'creativity', 'decision-making',\n",
        "        'empathy', 'negotiation', 'conflict resolution', 'responsibility', 'accountability'\n",
        "    ]\n",
        "\n",
        "    # Deep dive into project and experience sections for analysis\n",
        "    soft_skills_found = []\n",
        "\n",
        "    # Identify sentences that might convey soft skills using spaCy\n",
        "    doc = nlp(cv_text)\n",
        "    for sent in doc.sents:\n",
        "        sentence_text = sent.text.strip()\n",
        "\n",
        "        # Classify each sentence based on the likelihood of conveying soft skills\n",
        "        results = classifier(sentence_text, candidate_labels=soft_skills_list, multi_label=True)\n",
        "\n",
        "        # Get skills with a score over a threshold (e.g., 0.6) for accuracy\n",
        "        for label, score in zip(results[\"labels\"], results[\"scores\"]):\n",
        "            if score >= 0.6 and label not in soft_skills_found:\n",
        "                soft_skills_found.append(label)\n",
        "\n",
        "    # Count occurrences to determine the most emphasized skills\n",
        "    soft_skills_counts = Counter(soft_skills_found)\n",
        "    most_important_skills = soft_skills_counts.most_common()\n",
        "\n",
        "    return most_important_skills\n",
        "\n",
        "\n",
        "soft_skills = extract_soft_skills(cv_text)\n",
        "\n",
        "print(\"Extracted Soft Skills:\")\n",
        "for skill, count in soft_skills:\n",
        "    print(f\"- {skill} (mentioned {count} times)\")\n"
      ],
      "metadata": {
        "colab": {
          "base_uri": "https://localhost:8080/"
        },
        "id": "G5txO4ygLrbu",
        "outputId": "58dd9100-4359-4686-e2fa-dcfcd616829a"
      },
      "execution_count": null,
      "outputs": [
        {
          "output_type": "stream",
          "name": "stdout",
          "text": [
            "Extracted Soft Skills:\n",
            "- collaboration (mentioned 1 times)\n",
            "- leadership (mentioned 1 times)\n",
            "- teamwork (mentioned 1 times)\n",
            "- communication (mentioned 1 times)\n",
            "- adaptability (mentioned 1 times)\n",
            "- responsibility (mentioned 1 times)\n",
            "- time management (mentioned 1 times)\n",
            "- problem-solving (mentioned 1 times)\n",
            "- decision-making (mentioned 1 times)\n",
            "- critical thinking (mentioned 1 times)\n"
          ]
        }
      ]
    },
    {
      "cell_type": "code",
      "source": [
        "import spacy\n",
        "from transformers import pipeline\n",
        "\n",
        "# Load spaCy model for preliminary processing\n",
        "nlp = spacy.load(\"en_core_web_sm\")\n",
        "\n",
        "# Load a transformer-based zero-shot classifier for deeper context-checking\n",
        "classifier = pipeline(\"zero-shot-classification\", model=\"facebook/bart-large-mnli\")\n",
        "\n",
        "# Define the function to extract achievements\n",
        "def extract_achievements(cv_text):\n",
        "    # Keywords to locate potential achievements\n",
        "    achievement_keywords = ['award', 'honor', 'achievement', 'recognition', 'accomplishment',\n",
        "                            'milestone', 'certification', 'promotion', 'patent', 'publication']\n",
        "\n",
        "    # Candidate label for zero-shot classification (achievement-related)\n",
        "    candidate_labels = [\"achievement\", \"award\", \"recognition\", \"milestone\", \"promotion\"]\n",
        "\n",
        "    # List to store identified achievements\n",
        "    achievements = []\n",
        "\n",
        "    # Pre-process text with spaCy to split it into sentences\n",
        "    doc = nlp(cv_text)\n",
        "\n",
        "    for sent in doc.sents:\n",
        "        sentence_text = sent.text.strip()\n",
        "\n",
        "        # Step 1: Check for achievement keywords\n",
        "        if any(keyword in sentence_text.lower() for keyword in achievement_keywords):\n",
        "\n",
        "            # Step 2: Use transformer classifier to confirm achievement relevance\n",
        "            results = classifier(sentence_text, candidate_labels=candidate_labels, multi_label=True)\n",
        "\n",
        "            # Add sentences classified as highly relevant achievements (score > 0.7)\n",
        "            for label, score in zip(results[\"labels\"], results[\"scores\"]):\n",
        "                if label == \"achievement\" and score > 0.7:\n",
        "                    achievements.append(sentence_text)\n",
        "                    break  # Break after confirming relevance to avoid duplication\n",
        "\n",
        "    return achievements\n",
        "\n",
        "achievements = extract_achievements(cv_text)\n",
        "\n",
        "print(\"Extracted Achievements:\")\n",
        "for achievement in achievements:\n",
        "    print(f\"- {achievement}\")\n"
      ],
      "metadata": {
        "colab": {
          "base_uri": "https://localhost:8080/"
        },
        "id": "-bH8hUdTQS8g",
        "outputId": "f6685a19-295a-4cc9-9d6c-052afa0cb305"
      },
      "execution_count": null,
      "outputs": [
        {
          "output_type": "stream",
          "name": "stdout",
          "text": [
            "Extracted Achievements:\n"
          ]
        }
      ]
    },
    {
      "cell_type": "code",
      "source": [
        "import re\n",
        "import spacy\n",
        "\n",
        "# Load spaCy model for optional context-checking (optional)\n",
        "nlp = spacy.load(\"en_core_web_sm\")\n",
        "\n",
        "def extract_programming_languages(text):\n",
        "    # Define a list of popular programming languages\n",
        "    programming_languages = [\n",
        "        'Python', 'Java', 'C', 'C\\\\+\\\\+', 'C#', 'JavaScript', 'Ruby', 'Go', 'Swift', 'Kotlin', 'PHP',\n",
        "        'TypeScript', 'R', 'Perl', 'Objective-C', 'Rust', 'Scala', 'Dart', 'Haskell', 'MATLAB',\n",
        "        'Shell', 'PowerShell', 'SQL', 'Bash', 'HTML', 'CSS', 'SASS', 'Fortran', 'COBOL'\n",
        "    ]\n",
        "\n",
        "    # Initialize an empty list to store found programming languages\n",
        "    found_languages = []\n",
        "\n",
        "    # Escape special characters in language names for regex matching\n",
        "    programming_languages_escaped = [re.escape(lang) for lang in programming_languages]\n",
        "\n",
        "    # Compile a regex pattern to match programming languages case-insensitively and as whole words\n",
        "    pattern = re.compile(r'\\b(' + '|'.join(programming_languages_escaped) + r')\\b', re.IGNORECASE)\n",
        "\n",
        "    # Find all matches in the text and add unique matches to found_languages\n",
        "    matches = pattern.findall(text)\n",
        "    found_languages.extend(set(matches))  # Convert matches to a set to avoid duplicates\n",
        "\n",
        "    # Optional: Use spaCy to ensure that languages appear in technical contexts\n",
        "    doc = nlp(text)\n",
        "    for sent in doc.sents:\n",
        "        sentence_text = sent.text.lower()\n",
        "        # Verify technical context if needed\n",
        "        for lang in programming_languages:\n",
        "            if lang.lower() in sentence_text and lang not in found_languages:\n",
        "                found_languages.append(lang)\n",
        "\n",
        "    return found_languages\n",
        "\n",
        "# Example usage\n",
        "text = \"\"\"\n",
        "I have worked with various programming languages including Python, Java, and JavaScript for software development.\n",
        "Additionally, I have experience with web technologies like HTML, CSS, and SQL for database management.\n",
        "\"\"\"\n",
        "programming_languages = extract_programming_languages(cv_text)\n",
        "\n",
        "# Display programming languages and their count\n",
        "print(\"Programming Languages Found:\")\n",
        "for language in programming_languages:\n",
        "    print(f\"- {language}\")\n",
        "\n",
        "print(f\"Total number of programming languages found: {len(programming_languages)}\")\n"
      ],
      "metadata": {
        "colab": {
          "base_uri": "https://localhost:8080/"
        },
        "id": "V9KQlc2s6NIM",
        "outputId": "beadacf8-9a54-4148-fd4c-035f33fcda71"
      },
      "execution_count": null,
      "outputs": [
        {
          "output_type": "stream",
          "name": "stdout",
          "text": [
            "Programming Languages Found:\n",
            "- SQL\n",
            "- Python\n",
            "- JavaScript\n",
            "- TypeScript\n",
            "- C\n",
            "- Java\n",
            "- R\n",
            "- Go\n",
            "- C#\n",
            "Total number of programming languages found: 9\n"
          ]
        }
      ]
    },
    {
      "cell_type": "code",
      "source": [
        "import re\n",
        "\n",
        "# Function to extract sections from CV text\n",
        "def extract_cv_sections(cv_text):\n",
        "    # Define common section headers for CVs\n",
        "    section_headers = {\n",
        "        'Projects': ['projects', 'project experience', 'relevant projects'],\n",
        "        'Education': ['education', 'academic qualifications', 'academic background'],\n",
        "        'Work Experience': ['work experience','WORK EXPERIENCE' 'professional experience', 'employment history', 'career history'],\n",
        "        'Skills': ['skills', 'technical skills', 'professional skills'],\n",
        "        'Certifications': ['certifications', 'certificates', 'licenses'],\n",
        "        'Achievements': ['achievements', 'awards', 'honors', 'accomplishments'],\n",
        "        'References': ['references', 'referees']\n",
        "    }\n",
        "\n",
        "    # Create a dictionary to store each section's content\n",
        "    sections = {header: \"\" for header in section_headers}\n",
        "\n",
        "    # Convert the text to lowercase and split by lines\n",
        "    lines = cv_text.split('\\n')\n",
        "    current_section = None\n",
        "\n",
        "    # Iterate through each line\n",
        "    for line in lines:\n",
        "        line_lower = line.strip().lower()\n",
        "\n",
        "        # Check if the line is a section header\n",
        "        found_section = False\n",
        "        for section, keywords in section_headers.items():\n",
        "            if any(keyword in line_lower for keyword in keywords):\n",
        "                current_section = section\n",
        "                found_section = True\n",
        "                break\n",
        "\n",
        "        # If a new section header is found, skip to the next line\n",
        "        if found_section:\n",
        "            continue\n",
        "\n",
        "        # Append the line to the current section if it’s not empty\n",
        "        if current_section:\n",
        "            sections[current_section] += line.strip() + \" \"\n",
        "\n",
        "    # Clean up whitespace in section contents\n",
        "    sections = {section: content.strip() for section, content in sections.items() if content.strip()}\n",
        "\n",
        "    return sections\n",
        "\n",
        "\n",
        "\n",
        "# Extract sections from the CV\n",
        "cv_sections = extract_cv_sections(cv_text)\n",
        "\n",
        "# Display the extracted sections\n",
        "for section, content in cv_sections.items():\n",
        "    print(f\"{section}:\\n{content}\\n\")\n",
        "\n"
      ],
      "metadata": {
        "colab": {
          "base_uri": "https://localhost:8080/"
        },
        "id": "rDdrOae1mEoM",
        "outputId": "4851488a-28e5-4a14-d97e-daae0bc4b96a"
      },
      "execution_count": null,
      "outputs": [
        {
          "output_type": "stream",
          "name": "stdout",
          "text": [
            "Projects:\n",
            "13 / 6B, Pubudugama, Kospalawinna Rd, Ratnapura. 071 - 176 53 56 vmbckscc456@gmail.com buddhikac96.github.io buddhikac96  ( LinkedIn ) buddhikac96  ( GitHub ) buddhikac96  ( Stackoverflow ) runtimeerror  ( Medium ) hackerbuddy96  ( Twitter ) Windows service wrapper Yaml configuration support XML Schema validation Tools : C#, DotNet, Visual Studio, GitHub Internal tools development - Unit testing tool Code refactoring, API Development, Project Planning - Car Rental System Tools : C#, DotNet, Angular, Visual Studio, BitBucket Conducted knowledge sharing session series (Asynchronous programming) Other activities : DS meetings, Futsal games, Pool competition Programming Languages Java, C#, Python, JavaScript, Elixir Frameworks Antlr4, DotNet, Angular DataBase MySQL, SQL, MongoDB Version Controlling Git, GitHub, BitBucket, GitHub Desktop, GitKraken loki Source code localizer for programming languages Project : https://github.com/odinsvault/loki Technologies: Java, YAMLloki is a tool that allows users to write programs in their native language. It allows us to localize source codes. This project is a part of Simply programming language, which allows students to learn basic programming concepts in their native language by using simple syntax style. goodyaml Schema validating tool for YAML Project : https://github.com/buddhikac96/goodyaml Technologies: C#, DotNet, YamlDotNetgoodyaml is a command-line tool that facilitates validating YAML schema. Users can use JSON schema to validate YAML schema. Quality Room IoT based room environment control system Project : https://github.com/buddhikac96/QualityRoom Technologies: Atmega32, C++, RabbitMQ, NodeJS, GrafanaQualityRoom is an IoT-based room environment quality control system that measures temperature, humidity, sound intensity, and air quality. It sends a message to the user if some parameter exceeds the pre-defined threshold value. The real-time values of the sensors are displayed in a dashboard. Find Your Tutor Web application Project : https://github.com/buddhikac96/findthetutor Technologies: Angular, TypeScript, NodeJS, MySQLFind Your Tutor is a platform that facilitates the interaction between students and private tutors. This enables the students to find private\n",
            "\n",
            "Education:\n",
            "theory. University of Moratuwa Faculty of Information Technology | 2016 - 2021 SGPA - 3.28 (6th semester) Sivali Central College A/L - Common Stream (Mathematics, Physics, ICT) A A B (Mathematics - B) | Z-Score - 2.37 Island 1st - Common Stream (2015) Student Developer | Google Summer of Code 2020 Jenkins Project | Windows Service Wrapper Software Engineer | Intern Eyepax IT Consulting (Pvt.) Ltd. Industry awareness sessions Java course Vicerant Institute Founder | Lecturer Review of Introductory programming languages for novice learners (Research - Ongoing) Java Application Performance and Memory Management Course (Ongoing) - (Udemy) AWS Certified Cloud Practitioner (Udemy ) Google Cloud Platform Fundamentals (Coursera) Presented in DevOps World Conf 2020 find tuition opportunities nearby. I contributed in front-end\n",
            "\n",
            "Skills:\n",
            "Buddhika Chathuranga Leadership, Public Speaking,   Team Player Windows Service Wrapper ( WinSW ) Google Summer of Code 2020 Project : https://github.com/winsw/winsw Blog: WinSW - YAML Config Support Technologies: C#, DotNet, Visual Studio, GitHubWindows service wrapper is a tool that allows running Jenkins as a service in the Windows machine. WinSW was configured by an XML file. I updated WinSW to be configured by the YAML configuration file under GSoC2020. Simply - Research Project ( Ongoing ) Simple extensible programming language for kids Project : https://github.com/OdinsVault Technologies: Java, Antlr4, SpringBoot, ReactSimply is a web-oriented programming language that is being developed for kids to learn to program easily. Simply consists of a programming language, runtime visualizer, and a web based coding/learning platform. I am developing the source to source compiler. Calang Simple calculator based PL Project : https://github.com/buddhikac96/calang Technologies: Java, Antlr4Calang is a simple programming language that compiles into Java.\n",
            "\n",
            "Achievements:\n",
            "1st Place - Tech Coders v1.0   (2018) Competitive programming competition organized by tech seekers community for university students. Bronze Medal - Week of Code 30 Silver Medal - Hour Rank 26 1 hour rapid competitive programming competition by Hackerrank.com 2nd Place - Mora Xtream coding competition Competitive programming competition organized by IEEE society of   University of Moratuwa 2nd Place - Coderush 2k17 (2017) Competitive programming competition organized by faculty of IT of University of Moratuwa 1 week long competitive programming competition by Hackerrank.com Bronze Medal - Week of Code 34 Bronze Medal - Week of Code 36 Finalist - RealHack 1.0 Hackathon competition organized by university of Kelaniya Finalist - Hackstat 2.0 Datathon organized by the Stat Circle of the University of Colombo 1st Place - Orchestra (2013) All island school music competition 1st Place - Choir (2013) All island school music competition 1st Place - School Chess Championship (Under 11) 1st Place - Open Chess Championship (Kalutara Chess Club) (Under 13) Industry Awareness Sessions Sivali Central College, Ferguson High School, Mihindu Vidyalaya Organized by Vicerant Finalist - HackDev 2020 ( Ongoing ) National youth innovation challenge Board Price - School Chess Championship ( 1st Board ) 3rd Place - School Badminton Championship (Sabaragamuwa Province) Industry Awareness Sessions Senarath Paranawithaana National School Organized by INTECS Member - School Western Band President - School Science Club Sport activities (School) - Chess, Boxing, Badminton, Gymnastic, Cricket, Futsal 3rd Place - Orchestra (2012) All island school music competition\n",
            "\n",
            "References:\n",
            "Director/Undergraduate Studies, Department of Information Technology, Fac of IT. University of Moratuwa, Katubedda, Moratuwa. Sri Lanka. Mobile: +94 71 486 66 52 Email: supunmali@uom.lkMr. Kasun Dissanayake Tech lead, Eyepax IT Consulting (Pvt.) Ltd. Colombo 03. Mobile: +94 71 153 8675 Email: kasun.d@eyepax.com Interests Open source contributing Blogging Sports : Cricket, Badminton, Chess Workingout Volunteering Other Experiences Member - INTECS, Faculty of IT, University of Moratuwa Batch representative of the INTECS ( Level 1, Level 2 ) Company Coordinator - Are You Ready (2018)\n",
            "\n"
          ]
        }
      ]
    },
    {
      "cell_type": "code",
      "source": [],
      "metadata": {
        "id": "muAt_M3E5Z3_"
      },
      "execution_count": null,
      "outputs": []
    },
    {
      "cell_type": "code",
      "source": [
        "import re\n",
        "\n",
        "# Function to extract a specific technology from CV text\n",
        "def extract_specific_technology(cv_text, technology):\n",
        "    # Create a case-insensitive regex pattern for the specified technology\n",
        "    technology_pattern = re.compile(r'\\b' + re.escape(technology) + r'\\b', re.IGNORECASE)\n",
        "\n",
        "    # Search for the technology in the CV text\n",
        "    matches = technology_pattern.findall(cv_text)\n",
        "\n",
        "    # Check if technology is found\n",
        "    if matches:\n",
        "        print(f\"The technology '{technology}' is mentioned {len(matches)} times in the CV.\")\n",
        "    else:\n",
        "        print(f\"The technology '{technology}' is not mentioned in the CV.\")\n",
        "\n",
        "# Example usage:\n",
        "\n",
        "\n",
        "# Prompt user to input the technology they want to search for\n",
        "technology = input(\"Enter the technology you want to search for: \")\n",
        "extract_specific_technology(cv_text, technology)\n"
      ],
      "metadata": {
        "colab": {
          "base_uri": "https://localhost:8080/"
        },
        "id": "xN7q5q5PLyVQ",
        "outputId": "0db5caed-0829-474a-8751-cdf701f1e808"
      },
      "execution_count": null,
      "outputs": [
        {
          "output_type": "stream",
          "name": "stdout",
          "text": [
            "Enter the technology you want to search for: java\n",
            "The technology 'java' is mentioned 7 times in the CV.\n"
          ]
        }
      ]
    },
    {
      "cell_type": "code",
      "source": [
        "import re\n",
        "from collections import Counter\n",
        "\n",
        "# Define a list of common technical skills\n",
        "technical_skills = [\n",
        "    'Python', 'Java', 'C', 'C++', 'C#', 'JavaScript', 'TypeScript', 'PHP', 'Ruby', 'Go', 'Swift', 'Kotlin', 'Rust',\n",
        "    'React', 'Angular', 'Node.js', 'Django', 'Flask', 'Spring', 'Laravel', 'Vue.js', 'Bootstrap', 'TensorFlow',\n",
        "    'Keras', 'PyTorch', 'jQuery', 'Express', 'Next.js', 'Spring Boot', 'Material UI', 'Hibernate', 'FastAPI',\n",
        "    'MySQL', 'MongoDB', 'PostgreSQL', 'SQLite', 'Oracle', 'SQL Server', 'Firebase', 'DynamoDB', 'Redis',\n",
        "    'AWS', 'Azure', 'Google Cloud', 'Firebase', 'Heroku', 'DigitalOcean', 'Cloudflare', 'IBM Cloud',\n",
        "    'Docker', 'Kubernetes', 'Git', 'GitHub', 'GitLab', 'JIRA', 'Bitbucket', 'Jenkins', 'Ansible', 'Terraform',\n",
        "    'CI/CD', 'Serverless', 'Kibana', 'Elasticsearch', 'Logstash', 'Splunk', 'Figma', 'Postman'\n",
        "]\n",
        "\n",
        "# Function to extract and count technical skills\n",
        "def extract_and_count_technical_skills(cv_text):\n",
        "    # Convert the skills list to a dictionary for counting occurrences\n",
        "    skill_counts = Counter()\n",
        "\n",
        "    # Iterate through each skill and count occurrences in CV text\n",
        "    for skill in technical_skills:\n",
        "        # Create a case-insensitive regex pattern for each skill\n",
        "        pattern = re.compile(r'\\b' + re.escape(skill) + r'\\b', re.IGNORECASE)\n",
        "        matches = pattern.findall(cv_text)\n",
        "        if matches:\n",
        "            skill_counts[skill] = len(matches)  # Count the number of matches for each skill\n",
        "\n",
        "    return skill_counts\n",
        "\n",
        "# Example CV text (replace with actual CV content)\n",
        "\n",
        "\n",
        "# Extract and count technical skills\n",
        "skill_counts = extract_and_count_technical_skills(cv_text)\n",
        "\n",
        "# Display the skill counts\n",
        "print(\"Technical Skills Count:\")\n",
        "for skill, count in skill_counts.items():\n",
        "    print(f\"- {skill}: {count}\")\n"
      ],
      "metadata": {
        "colab": {
          "base_uri": "https://localhost:8080/"
        },
        "id": "kdS41yxGNE8I",
        "outputId": "05eeab37-6c33-42ec-f2c4-a7819a5a3522"
      },
      "execution_count": null,
      "outputs": [
        {
          "output_type": "stream",
          "name": "stdout",
          "text": [
            "Technical Skills Count:\n",
            "- Python: 1\n",
            "- Java: 7\n",
            "- C: 6\n",
            "- JavaScript: 1\n",
            "- TypeScript: 1\n",
            "- Angular: 3\n",
            "- MySQL: 1\n",
            "- MongoDB: 1\n",
            "- AWS: 1\n",
            "- Google Cloud: 1\n",
            "- Git: 1\n",
            "- GitHub: 12\n",
            "- Bitbucket: 2\n",
            "- Jenkins: 2\n"
          ]
        }
      ]
    },
    {
      "cell_type": "code",
      "source": [
        "import re\n",
        "\n",
        "# Function to extract all projects from CV text\n",
        "def extract_projects(cv_text):\n",
        "    projects = []\n",
        "    # Define keywords that commonly indicate projects\n",
        "    project_keywords = ['project', 'technologies used', 'technology stack','description','tools and technologies' 'responsibilities','technical projects', 'company projects', 'university project']\n",
        "\n",
        "    # Split the text into lines\n",
        "    lines = cv_text.split('\\n')\n",
        "    current_project = None\n",
        "\n",
        "    # Iterate through lines to find project sections\n",
        "    for line in lines:\n",
        "        line_lower = line.lower()\n",
        "        # Check if the line contains any project-related keywords\n",
        "        if any(keyword in line_lower for keyword in project_keywords):\n",
        "            # If we have a current project being accumulated, save it\n",
        "            if current_project:\n",
        "                projects.append(current_project.strip())\n",
        "            # Start a new project section\n",
        "            current_project = line.strip()\n",
        "        elif current_project:\n",
        "            # Append related details to the current project\n",
        "            current_project += \" \" + line.strip()\n",
        "\n",
        "    # Append the last project, if any\n",
        "    if current_project:\n",
        "        projects.append(current_project.strip())\n",
        "\n",
        "    return projects\n",
        "\n",
        "\n",
        "\n",
        "# Extract projects from the CV text\n",
        "extracted_projects = extract_projects(cv_text)\n",
        "\n",
        "# Display the extracted projects\n",
        "print(\"Extracted Projects:\")\n",
        "for project in extracted_projects:\n",
        "    print(f\"- {project}\")\n"
      ],
      "metadata": {
        "colab": {
          "base_uri": "https://localhost:8080/"
        },
        "id": "n1mRWhZjXJlk",
        "outputId": "7112a00f-8e31-4959-dac0-b973451bcb5f"
      },
      "execution_count": null,
      "outputs": [
        {
          "output_type": "stream",
          "name": "stdout",
          "text": [
            "Extracted Projects:\n",
            "- any technology stack. Good at work under pressure and excited to learn new technologies. Likes to deliver on time and agile in any condition. Open-minded and loves to contribute open-source. Reach Me Professional Skills Buddhika Chathuranga Education Work Experience Publications and Certifications\n",
            "- Projects 13 / 6B, Pubudugama, Kospalawinna Rd, Ratnapura. 071 - 176 53 56 vmbckscc456@gmail.com buddhikac96.github.io buddhikac96  ( LinkedIn ) buddhikac96  ( GitHub ) buddhikac96  ( Stackoverflow ) runtimeerror  ( Medium ) hackerbuddy96  ( Twitter ) Windows service wrapper Yaml configuration support XML Schema validation Tools : C#, DotNet, Visual Studio, GitHub Internal tools development - Unit testing tool\n",
            "- Code refactoring, API Development, Project Planning - Car Rental System Tools : C#, DotNet, Angular, Visual Studio, BitBucket Conducted knowledge sharing session series (Asynchronous programming) Other activities : DS meetings, Futsal games, Pool competition Programming Languages Java, C#, Python, JavaScript, Elixir Frameworks Antlr4, DotNet, Angular DataBase MySQL, SQL, MongoDB Version Controlling Git, GitHub, BitBucket, GitHub Desktop, GitKraken Non-technical skills Leadership, Public Speaking,   Team Player Windows Service Wrapper ( WinSW ) Google Summer of Code 2020\n",
            "- Project : https://github.com/winsw/winsw Blog: WinSW - YAML Config Support Technologies: C#, DotNet, Visual Studio, GitHubWindows service wrapper is a tool that allows running Jenkins as a service in the Windows machine. WinSW was configured by an XML file. I updated WinSW to be configured by the YAML configuration file under GSoC2020.\n",
            "- Simply - Research Project ( Ongoing ) Simple extensible programming language for kids\n",
            "- Project : https://github.com/OdinsVault Technologies: Java, Antlr4, SpringBoot, ReactSimply is a web-oriented programming language that is being developed for kids to learn to program easily. Simply consists of a programming language, runtime visualizer, and a web based coding/learning platform. I am developing the source to source compiler. Calang Simple calculator based PL\n",
            "- Project : https://github.com/buddhikac96/calang Technologies: Java, Antlr4Calang is a simple programming language that compiles into Java.\n",
            "- Calang is an educational project that I developed to learn compiler theory. University of Moratuwa Faculty of Information Technology | 2016 - 2021 SGPA - 3.28 (6th semester) Sivali Central College A/L - Common Stream (Mathematics, Physics, ICT) A A B (Mathematics - B) | Z-Score - 2.37 Island 1st - Common Stream (2015) Student Developer | Google Summer of Code 2020\n",
            "- Jenkins Project | Windows Service Wrapper Software Engineer | Intern Eyepax IT Consulting (Pvt.) Ltd. Industry awareness sessions Java course Vicerant Institute Founder | Lecturer Review of Introductory programming languages for novice learners (Research - Ongoing) Java Application Performance and Memory Management Course (Ongoing) - (Udemy) AWS Certified Cloud Practitioner (Udemy ) Google Cloud Platform Fundamentals (Coursera) Presented in DevOps World Conf 2020 Other Skills\n",
            "- Design Patterns, Project Planning, JIRAProjects loki Source code localizer for programming languages\n",
            "- Project : https://github.com/odinsvault/loki Technologies: Java, YAMLloki is a tool that allows users to write programs in their native\n",
            "- language. It allows us to localize source codes. This project is a part of Simply programming language, which allows students to learn basic programming concepts in their native language by using simple syntax style. goodyaml Schema validating tool for YAML\n",
            "- Project : https://github.com/buddhikac96/goodyaml Technologies: C#, DotNet, YamlDotNetgoodyaml is a command-line tool that facilitates validating YAML schema. Users can use JSON schema to validate YAML schema. Quality Room IoT based room environment control system\n",
            "- Project : https://github.com/buddhikac96/QualityRoom Technologies: Atmega32, C++, RabbitMQ, NodeJS, GrafanaQualityRoom is an IoT-based room environment quality control system that measures temperature, humidity, sound intensity, and air quality. It sends a message to the user if some parameter exceeds the pre-defined threshold value. The real-time values of the sensors are displayed in a dashboard. Find Your Tutor Web application\n",
            "- Project : https://github.com/buddhikac96/findthetutor Technologies: Angular, TypeScript, NodeJS, MySQLFind Your Tutor is a platform that facilitates the interaction between students and private tutors. This enables the students to find private tutors according to their educational requirements and the tutors to find tuition opportunities nearby. I contributed in front-end development and system testing.Non-related referees Dr. Supunmali Ahangama Director/Undergraduate Studies, Department of Information Technology, Fac of IT. University of Moratuwa, Katubedda, Moratuwa. Sri Lanka. Mobile: +94 71 486 66 52 Email: supunmali@uom.lkMr. Kasun Dissanayake Tech lead, Eyepax IT Consulting (Pvt.) Ltd. Colombo 03. Mobile: +94 71 153 8675 Email: kasun.d@eyepax.com Interests Open source contributing Blogging Sports : Cricket, Badminton, Chess Workingout Volunteering Other Experiences Member - INTECS, Faculty of IT, University of Moratuwa Batch representative of the INTECS ( Level 1, Level 2 ) Company Coordinator - Are You Ready (2018) Achievements 1st Place - Tech Coders v1.0   (2018) Competitive programming competition organized by tech seekers community for university students. Bronze Medal - Week of Code 30 Silver Medal - Hour Rank 26 1 hour rapid competitive programming competition by Hackerrank.com 2nd Place - Mora Xtream coding competition Competitive programming competition organized by IEEE society of   University of Moratuwa 2nd Place - Coderush 2k17 (2017) Competitive programming competition organized by faculty of IT of University of Moratuwa 1 week long competitive programming competition by Hackerrank.com Bronze Medal - Week of Code 34 Bronze Medal - Week of Code 36 Finalist - RealHack 1.0 Hackathon competition organized by university of Kelaniya Finalist - Hackstat 2.0 Datathon organized by the Stat Circle of the University of Colombo 1st Place - Orchestra (2013) All island school music competition 1st Place - Choir (2013) All island school music competition 1st Place - School Chess Championship (Under 11) 1st Place - Open Chess Championship (Kalutara Chess Club) (Under 13) Industry Awareness Sessions Sivali Central College, Ferguson High School, Mihindu Vidyalaya Organized by Vicerant Finalist - HackDev 2020 ( Ongoing ) National youth innovation challenge Board Price - School Chess Championship ( 1st Board ) 3rd Place - School Badminton Championship (Sabaragamuwa Province) Industry Awareness Sessions Senarath Paranawithaana National School Organized by INTECS Member - School Western Band President - School Science Club Sport activities (School) - Chess, Boxing, Badminton, Gymnastic, Cricket, Futsal 3rd Place - Orchestra (2012) All island school music competition\n"
          ]
        }
      ]
    },
    {
      "cell_type": "code",
      "source": [
        "import re\n",
        "\n",
        "def extract_project_section(cv_text):\n",
        "    # Define start and end markers for the project section\n",
        "    project_start_keywords = [\n",
        "        \"projects\", \"project experience\", \"university projects\", \"industry projects\", \"technical projects\"\n",
        "    ]\n",
        "    section_end_keywords = [\n",
        "        \"education\", \"work experience\", \"skills\", \"certifications\", \"achievements\", \"publications\", \"interests\"\n",
        "    ]\n",
        "\n",
        "    # Combine the keywords into regex patterns for matching\n",
        "    project_start_pattern = re.compile(r'(' + '|'.join(project_start_keywords) + r')', re.IGNORECASE)\n",
        "    section_end_pattern = re.compile(r'(' + '|'.join(section_end_keywords) + r')', re.IGNORECASE)\n",
        "\n",
        "    # Find where the project section starts\n",
        "    project_start = project_start_pattern.search(cv_text)\n",
        "    if not project_start:\n",
        "        print(\"No project section found.\")\n",
        "        return None\n",
        "\n",
        "    # Extract text starting from the project section\n",
        "    project_text = cv_text[project_start.end():]\n",
        "\n",
        "    # Find where the next section starts to determine the end of the project section\n",
        "    section_end = section_end_pattern.search(project_text)\n",
        "    if section_end:\n",
        "        project_text = project_text[:section_end.start()]\n",
        "\n",
        "    return project_text.strip()\n",
        "\n",
        "\n",
        "\n",
        "# Extract the project section from the CV\n",
        "project_section = extract_project_section(cv_text)\n",
        "\n",
        "# Display the extracted project section\n",
        "if project_section:\n",
        "    print(\"Project Section Extracted:\")\n",
        "    print(project_section)\n"
      ],
      "metadata": {
        "colab": {
          "base_uri": "https://localhost:8080/"
        },
        "id": "U5UDq_1LdjI9",
        "outputId": "8e541d39-b805-43ca-9a30-b33e34d9c2c2"
      },
      "execution_count": null,
      "outputs": [
        {
          "output_type": "stream",
          "name": "stdout",
          "text": [
            "Project Section Extracted:\n",
            "13 / 6B, Pubudugama,\n",
            "Kospalawinna Rd,\n",
            "Ratnapura.\n",
            "071 - 176 53 56\n",
            "vmbckscc456@gmail.com\n",
            "buddhikac96.github.io\n",
            "buddhikac96  ( LinkedIn )\n",
            "buddhikac96  ( GitHub )\n",
            "buddhikac96  ( Stackoverflow )\n",
            "runtimeerror  ( Medium )\n",
            "hackerbuddy96  ( Twitter )\n",
            "Windows service wrapper Yaml configuration support\n",
            "XML Schema validation\n",
            "Tools : C#, DotNet, Visual Studio, GitHub\n",
            "Internal tools development - Unit testing tool\n",
            "Code refactoring, API Development, Project Planning - Car\n",
            "Rental System\n",
            "Tools : C#, DotNet, Angular, Visual Studio, BitBucket\n",
            "Conducted knowledge sharing session series\n",
            "(Asynchronous programming)\n",
            "Other activities : DS meetings, Futsal games, Pool\n",
            "competition\n",
            "Programming Languages\n",
            "Java, C#, Python, JavaScript, Elixir\n",
            "Frameworks\n",
            "Antlr4, DotNet, Angular\n",
            "DataBase\n",
            "MySQL, SQL, MongoDB\n",
            "Version Controlling\n",
            "Git, GitHub, BitBucket, GitHub Desktop, GitKraken\n",
            "Non-technical\n"
          ]
        }
      ]
    },
    {
      "cell_type": "code",
      "source": [
        "import re\n",
        "\n",
        "# Function to extract project experiences from CV text\n",
        "def extract_project_experiences(cv_text):\n",
        "    projects = []\n",
        "    # Define keywords that indicate the start of a project section\n",
        "    project_keywords = ['project', 'technologies', 'tools', 'description', 'responsibilities']\n",
        "\n",
        "    # Split the text into lines\n",
        "    lines = cv_text.split('\\n')\n",
        "    current_project = None\n",
        "\n",
        "    # Iterate through lines to find project sections\n",
        "    for line in lines:\n",
        "        line_lower = line.lower().strip()\n",
        "        # Check if the line contains any project-related keywords and isn't empty\n",
        "        if any(keyword in line_lower for keyword in project_keywords) and line:\n",
        "            # If accumulating a project, save it when a new project starts\n",
        "            if current_project:\n",
        "                projects.append(current_project.strip())\n",
        "            # Start a new project entry\n",
        "            current_project = line.strip()\n",
        "        elif current_project:\n",
        "            # Accumulate the current project details\n",
        "            current_project += \" \" + line.strip()\n",
        "\n",
        "    # Add the last project if any\n",
        "    if current_project:\n",
        "        projects.append(current_project.strip())\n",
        "\n",
        "    # Filter out extra descriptions that do not pertain to specific projects\n",
        "    filtered_projects = [project for project in projects if len(project.split()) > 5]\n",
        "\n",
        "    return filtered_projects\n",
        "\n",
        "# Example CV text (replace with actual CV content)\n",
        "\n",
        "\n",
        "# Extract project experiences from the CV text\n",
        "extracted_projects = extract_project_experiences(cv_text)\n",
        "\n",
        "# Display the extracted projects\n",
        "print(\"Extracted Project Experiences:\")\n",
        "for project in extracted_projects:\n",
        "    print(f\"- {project}\")\n"
      ],
      "metadata": {
        "colab": {
          "base_uri": "https://localhost:8080/"
        },
        "id": "CvBza24XosuO",
        "outputId": "4259a62d-0085-4155-cb6e-7e6e52fc38bb"
      },
      "execution_count": null,
      "outputs": [
        {
          "output_type": "stream",
          "name": "stdout",
          "text": [
            "Extracted Project Experiences:\n",
            "- excited to learn new technologies. Likes to deliver on time and agile in any condition. Open-minded and loves to contribute open-source. Reach Me Professional Skills Buddhika Chathuranga Education Work Experience Publications and Certifications\n",
            "- Projects 13 / 6B, Pubudugama, Kospalawinna Rd, Ratnapura. 071 - 176 53 56 vmbckscc456@gmail.com buddhikac96.github.io buddhikac96  ( LinkedIn ) buddhikac96  ( GitHub ) buddhikac96  ( Stackoverflow ) runtimeerror  ( Medium ) hackerbuddy96  ( Twitter ) Windows service wrapper Yaml configuration support XML Schema validation\n",
            "- Tools : C#, DotNet, Visual Studio, GitHub\n",
            "- Internal tools development - Unit testing tool\n",
            "- Code refactoring, API Development, Project Planning - Car Rental System\n",
            "- Tools : C#, DotNet, Angular, Visual Studio, BitBucket Conducted knowledge sharing session series (Asynchronous programming) Other activities : DS meetings, Futsal games, Pool competition Programming Languages Java, C#, Python, JavaScript, Elixir Frameworks Antlr4, DotNet, Angular DataBase MySQL, SQL, MongoDB Version Controlling Git, GitHub, BitBucket, GitHub Desktop, GitKraken Non-technical skills Leadership, Public Speaking,   Team Player Windows Service Wrapper ( WinSW ) Google Summer of Code 2020\n",
            "- Project : https://github.com/winsw/winsw Blog: WinSW - YAML Config Support\n",
            "- Technologies: C#, DotNet, Visual Studio, GitHubWindows service wrapper is a tool that allows running Jenkins as a service in the Windows machine. WinSW was configured by an XML file. I updated WinSW to be configured by the YAML configuration file under GSoC2020.\n",
            "- Simply - Research Project ( Ongoing ) Simple extensible programming language for kids\n",
            "- Technologies: Java, Antlr4, SpringBoot, ReactSimply is a web-oriented programming language that is being developed for kids to learn to program easily. Simply consists of a programming language, runtime visualizer, and a web based coding/learning platform. I am developing the source to source compiler. Calang Simple calculator based PL\n",
            "- Technologies: Java, Antlr4Calang is a simple programming language that compiles into Java.\n",
            "- Calang is an educational project that I developed to learn compiler theory. University of Moratuwa Faculty of Information Technology | 2016 - 2021 SGPA - 3.28 (6th semester) Sivali Central College A/L - Common Stream (Mathematics, Physics, ICT) A A B (Mathematics - B) | Z-Score - 2.37 Island 1st - Common Stream (2015) Student Developer | Google Summer of Code 2020\n",
            "- Jenkins Project | Windows Service Wrapper Software Engineer | Intern Eyepax IT Consulting (Pvt.) Ltd. Industry awareness sessions Java course Vicerant Institute Founder | Lecturer Review of Introductory programming languages for novice learners (Research - Ongoing) Java Application Performance and Memory Management Course (Ongoing) - (Udemy) AWS Certified Cloud Practitioner (Udemy ) Google Cloud Platform Fundamentals (Coursera) Presented in DevOps World Conf 2020 Other Skills\n",
            "- Design Patterns, Project Planning, JIRAProjects loki Source code localizer for programming languages\n",
            "- Technologies: Java, YAMLloki is a tool that allows users to write programs in their native\n",
            "- language. It allows us to localize source codes. This project is a part of Simply programming language, which allows students to learn basic programming concepts in their native language by using simple syntax style. goodyaml Schema validating tool for YAML\n",
            "- Technologies: C#, DotNet, YamlDotNetgoodyaml is a command-line tool that facilitates validating YAML schema. Users can use JSON schema to validate YAML schema. Quality Room IoT based room environment control system\n",
            "- Technologies: Atmega32, C++, RabbitMQ, NodeJS, GrafanaQualityRoom is an IoT-based room environment quality control system that measures temperature, humidity, sound intensity, and air quality. It sends a message to the user if some parameter exceeds the pre-defined threshold value. The real-time values of the sensors are displayed in a dashboard. Find Your Tutor Web application\n",
            "- Technologies: Angular, TypeScript, NodeJS, MySQLFind Your Tutor is a platform that facilitates the interaction between students and private tutors. This enables the students to find private tutors according to their educational requirements and the tutors to find tuition opportunities nearby. I contributed in front-end development and system testing.Non-related referees Dr. Supunmali Ahangama Director/Undergraduate Studies, Department of Information Technology, Fac of IT. University of Moratuwa, Katubedda, Moratuwa. Sri Lanka. Mobile: +94 71 486 66 52 Email: supunmali@uom.lkMr. Kasun Dissanayake Tech lead, Eyepax IT Consulting (Pvt.) Ltd. Colombo 03. Mobile: +94 71 153 8675 Email: kasun.d@eyepax.com Interests Open source contributing Blogging Sports : Cricket, Badminton, Chess Workingout Volunteering Other Experiences Member - INTECS, Faculty of IT, University of Moratuwa Batch representative of the INTECS ( Level 1, Level 2 ) Company Coordinator - Are You Ready (2018) Achievements 1st Place - Tech Coders v1.0   (2018) Competitive programming competition organized by tech seekers community for university students. Bronze Medal - Week of Code 30 Silver Medal - Hour Rank 26 1 hour rapid competitive programming competition by Hackerrank.com 2nd Place - Mora Xtream coding competition Competitive programming competition organized by IEEE society of   University of Moratuwa 2nd Place - Coderush 2k17 (2017) Competitive programming competition organized by faculty of IT of University of Moratuwa 1 week long competitive programming competition by Hackerrank.com Bronze Medal - Week of Code 34 Bronze Medal - Week of Code 36 Finalist - RealHack 1.0 Hackathon competition organized by university of Kelaniya Finalist - Hackstat 2.0 Datathon organized by the Stat Circle of the University of Colombo 1st Place - Orchestra (2013) All island school music competition 1st Place - Choir (2013) All island school music competition 1st Place - School Chess Championship (Under 11) 1st Place - Open Chess Championship (Kalutara Chess Club) (Under 13) Industry Awareness Sessions Sivali Central College, Ferguson High School, Mihindu Vidyalaya Organized by Vicerant Finalist - HackDev 2020 ( Ongoing ) National youth innovation challenge Board Price - School Chess Championship ( 1st Board ) 3rd Place - School Badminton Championship (Sabaragamuwa Province) Industry Awareness Sessions Senarath Paranawithaana National School Organized by INTECS Member - School Western Band President - School Science Club Sport activities (School) - Chess, Boxing, Badminton, Gymnastic, Cricket, Futsal 3rd Place - Orchestra (2012) All island school music competition\n"
          ]
        }
      ]
    },
    {
      "cell_type": "code",
      "source": [
        "import re\n",
        "\n",
        "# Function to extract only the projects from CV text\n",
        "def extract_only_projects(cv_text):\n",
        "    projects = []\n",
        "    # Define keywords that typically indicate the start of a project section\n",
        "    project_keywords = ['project', 'technologies', 'tools', 'description', 'responsibilities']\n",
        "\n",
        "    # Split the text into lines\n",
        "    lines = cv_text.split('\\n')\n",
        "    current_project = None\n",
        "\n",
        "    # Iterate through lines to find project sections\n",
        "    for line in lines:\n",
        "        line_lower = line.lower().strip()\n",
        "        # Check if the line contains any project-related keywords and isn't empty\n",
        "        if any(keyword in line_lower for keyword in project_keywords) and line:\n",
        "            # If accumulating a project, save it when a new project starts\n",
        "            if current_project:\n",
        "                projects.append(current_project.strip())\n",
        "            # Start a new project entry\n",
        "            current_project = line.strip()\n",
        "        elif current_project:\n",
        "            # Accumulate the current project details\n",
        "            current_project += \" \" + line.strip()\n",
        "\n",
        "    # Add the last project if any\n",
        "    if current_project:\n",
        "        projects.append(current_project.strip())\n",
        "\n",
        "    # Filter out extra descriptions that do not pertain to specific projects\n",
        "    filtered_projects = [project for project in projects if len(project.split()) > 5]\n",
        "\n",
        "    return filtered_projects\n",
        "\n",
        "\n",
        "\n",
        "# Extract projects from the CV text\n",
        "extracted_projects = extract_only_projects(cv_text)\n",
        "\n",
        "# Display the extracted projects\n",
        "print(\"Extracted Projects:\")\n",
        "for project in extracted_projects:\n",
        "    print(f\"- {project}\")\n",
        "\n"
      ],
      "metadata": {
        "colab": {
          "base_uri": "https://localhost:8080/"
        },
        "id": "RNAQbhOXeTU9",
        "outputId": "398f8a3b-5acc-47db-80b4-b9ff6a9a5cbe"
      },
      "execution_count": null,
      "outputs": [
        {
          "output_type": "stream",
          "name": "stdout",
          "text": [
            "Extracted Projects:\n",
            "- excited to learn new technologies. Likes to deliver on time and agile in any condition. Open-minded and loves to contribute open-source. Reach Me Professional Skills Buddhika Chathuranga Education Work Experience Publications and Certifications\n",
            "- Projects 13 / 6B, Pubudugama, Kospalawinna Rd, Ratnapura. 071 - 176 53 56 vmbckscc456@gmail.com buddhikac96.github.io buddhikac96  ( LinkedIn ) buddhikac96  ( GitHub ) buddhikac96  ( Stackoverflow ) runtimeerror  ( Medium ) hackerbuddy96  ( Twitter ) Windows service wrapper Yaml configuration support XML Schema validation\n",
            "- Tools : C#, DotNet, Visual Studio, GitHub\n",
            "- Internal tools development - Unit testing tool\n",
            "- Code refactoring, API Development, Project Planning - Car Rental System\n",
            "- Tools : C#, DotNet, Angular, Visual Studio, BitBucket Conducted knowledge sharing session series (Asynchronous programming) Other activities : DS meetings, Futsal games, Pool competition Programming Languages Java, C#, Python, JavaScript, Elixir Frameworks Antlr4, DotNet, Angular DataBase MySQL, SQL, MongoDB Version Controlling Git, GitHub, BitBucket, GitHub Desktop, GitKraken Non-technical skills Leadership, Public Speaking,   Team Player Windows Service Wrapper ( WinSW ) Google Summer of Code 2020\n",
            "- Project : https://github.com/winsw/winsw Blog: WinSW - YAML Config Support\n",
            "- Technologies: C#, DotNet, Visual Studio, GitHubWindows service wrapper is a tool that allows running Jenkins as a service in the Windows machine. WinSW was configured by an XML file. I updated WinSW to be configured by the YAML configuration file under GSoC2020.\n",
            "- Simply - Research Project ( Ongoing ) Simple extensible programming language for kids\n",
            "- Technologies: Java, Antlr4, SpringBoot, ReactSimply is a web-oriented programming language that is being developed for kids to learn to program easily. Simply consists of a programming language, runtime visualizer, and a web based coding/learning platform. I am developing the source to source compiler. Calang Simple calculator based PL\n",
            "- Technologies: Java, Antlr4Calang is a simple programming language that compiles into Java.\n",
            "- Calang is an educational project that I developed to learn compiler theory. University of Moratuwa Faculty of Information Technology | 2016 - 2021 SGPA - 3.28 (6th semester) Sivali Central College A/L - Common Stream (Mathematics, Physics, ICT) A A B (Mathematics - B) | Z-Score - 2.37 Island 1st - Common Stream (2015) Student Developer | Google Summer of Code 2020\n",
            "- Jenkins Project | Windows Service Wrapper Software Engineer | Intern Eyepax IT Consulting (Pvt.) Ltd. Industry awareness sessions Java course Vicerant Institute Founder | Lecturer Review of Introductory programming languages for novice learners (Research - Ongoing) Java Application Performance and Memory Management Course (Ongoing) - (Udemy) AWS Certified Cloud Practitioner (Udemy ) Google Cloud Platform Fundamentals (Coursera) Presented in DevOps World Conf 2020 Other Skills\n",
            "- Design Patterns, Project Planning, JIRAProjects loki Source code localizer for programming languages\n",
            "- Technologies: Java, YAMLloki is a tool that allows users to write programs in their native\n",
            "- language. It allows us to localize source codes. This project is a part of Simply programming language, which allows students to learn basic programming concepts in their native language by using simple syntax style. goodyaml Schema validating tool for YAML\n",
            "- Technologies: C#, DotNet, YamlDotNetgoodyaml is a command-line tool that facilitates validating YAML schema. Users can use JSON schema to validate YAML schema. Quality Room IoT based room environment control system\n",
            "- Technologies: Atmega32, C++, RabbitMQ, NodeJS, GrafanaQualityRoom is an IoT-based room environment quality control system that measures temperature, humidity, sound intensity, and air quality. It sends a message to the user if some parameter exceeds the pre-defined threshold value. The real-time values of the sensors are displayed in a dashboard. Find Your Tutor Web application\n",
            "- Technologies: Angular, TypeScript, NodeJS, MySQLFind Your Tutor is a platform that facilitates the interaction between students and private tutors. This enables the students to find private tutors according to their educational requirements and the tutors to find tuition opportunities nearby. I contributed in front-end development and system testing.Non-related referees Dr. Supunmali Ahangama Director/Undergraduate Studies, Department of Information Technology, Fac of IT. University of Moratuwa, Katubedda, Moratuwa. Sri Lanka. Mobile: +94 71 486 66 52 Email: supunmali@uom.lkMr. Kasun Dissanayake Tech lead, Eyepax IT Consulting (Pvt.) Ltd. Colombo 03. Mobile: +94 71 153 8675 Email: kasun.d@eyepax.com Interests Open source contributing Blogging Sports : Cricket, Badminton, Chess Workingout Volunteering Other Experiences Member - INTECS, Faculty of IT, University of Moratuwa Batch representative of the INTECS ( Level 1, Level 2 ) Company Coordinator - Are You Ready (2018) Achievements 1st Place - Tech Coders v1.0   (2018) Competitive programming competition organized by tech seekers community for university students. Bronze Medal - Week of Code 30 Silver Medal - Hour Rank 26 1 hour rapid competitive programming competition by Hackerrank.com 2nd Place - Mora Xtream coding competition Competitive programming competition organized by IEEE society of   University of Moratuwa 2nd Place - Coderush 2k17 (2017) Competitive programming competition organized by faculty of IT of University of Moratuwa 1 week long competitive programming competition by Hackerrank.com Bronze Medal - Week of Code 34 Bronze Medal - Week of Code 36 Finalist - RealHack 1.0 Hackathon competition organized by university of Kelaniya Finalist - Hackstat 2.0 Datathon organized by the Stat Circle of the University of Colombo 1st Place - Orchestra (2013) All island school music competition 1st Place - Choir (2013) All island school music competition 1st Place - School Chess Championship (Under 11) 1st Place - Open Chess Championship (Kalutara Chess Club) (Under 13) Industry Awareness Sessions Sivali Central College, Ferguson High School, Mihindu Vidyalaya Organized by Vicerant Finalist - HackDev 2020 ( Ongoing ) National youth innovation challenge Board Price - School Chess Championship ( 1st Board ) 3rd Place - School Badminton Championship (Sabaragamuwa Province) Industry Awareness Sessions Senarath Paranawithaana National School Organized by INTECS Member - School Western Band President - School Science Club Sport activities (School) - Chess, Boxing, Badminton, Gymnastic, Cricket, Futsal 3rd Place - Orchestra (2012) All island school music competition\n"
          ]
        }
      ]
    },
    {
      "cell_type": "code",
      "source": [
        "def extract_contact_info(text):\n",
        "    email = re.findall(r'\\S+@\\S+', text)\n",
        "    github = re.findall(r'https?://(?:www\\.)?github\\.com/[^\\s]+', text)\n",
        "    linkedin = re.findall(r'https?://(?:www\\.)?linkedin\\.com/[^\\s]+', text)\n",
        "    return {\n",
        "        'email': email[0] if email else None,\n",
        "        'github': github[0] if github else None,\n",
        "        'linkedin': linkedin[0] if linkedin else None\n",
        "    }\n",
        "\n",
        "contact_info = extract_contact_info(cv_text)\n",
        "print(contact_info)\n"
      ],
      "metadata": {
        "colab": {
          "base_uri": "https://localhost:8080/"
        },
        "id": "DuxdNq9QsBxr",
        "outputId": "e339d269-3156-4d03-d48a-f5334f5af031"
      },
      "execution_count": null,
      "outputs": [
        {
          "output_type": "stream",
          "name": "stdout",
          "text": [
            "{'email': 'vmbckscc456@gmail.com', 'github': 'https://github.com/winsw/winsw', 'linkedin': None}\n"
          ]
        }
      ]
    },
    {
      "cell_type": "code",
      "source": [],
      "metadata": {
        "id": "LM7UB9PMZ_kH"
      },
      "execution_count": null,
      "outputs": []
    },
    {
      "cell_type": "code",
      "source": [
        "import spacy\n",
        "import re\n",
        "\n",
        "# Load spaCy's English model for NLP\n",
        "nlp = spacy.load(\"en_core_web_sm\")\n",
        "\n",
        "# Define common work experiences for software engineers\n",
        "work_experience_keywords = [\n",
        "    'developed', 'implemented', 'designed', 'maintained', 'collaborated', 'debugged', 'tested', 'deployed',\n",
        "    'reviewed code', 'code review', 'unit testing', 'integration testing', 'QA', 'continuous integration', 'CI/CD',\n",
        "    'database management', 'optimized database', 'agile development', 'scrum', 'sprints', 'requirements gathering',\n",
        "    'documented code', 'project documentation', 'customer communication', 'stakeholder engagement', 'mentored',\n",
        "    'project management', 'team lead'\n",
        "]\n",
        "\n",
        "# Function to extract work experiences\n",
        "def extract_work_experiences(text):\n",
        "    # Preprocess the text using spaCy to tokenize and process context\n",
        "    doc = nlp(text.lower())\n",
        "\n",
        "    # List to hold extracted work experiences\n",
        "    extracted_experiences = set()\n",
        "\n",
        "    # Extract sentences from the text that describe work experience\n",
        "    for sentence in doc.sents:\n",
        "        sentence_text = sentence.text.strip()\n",
        "\n",
        "        # Check for direct matches with work experience keywords\n",
        "        for keyword in work_experience_keywords:\n",
        "            if re.search(r'\\b' + re.escape(keyword) + r'\\b', sentence_text):\n",
        "                extracted_experiences.add(sentence_text)\n",
        "\n",
        "    return list(extracted_experiences)\n",
        "\n",
        "# Example resume text (Replace with actual resume text)\n",
        "resume_text = \"\"\"\n",
        "Developed and maintained web applications using Python and Django.\n",
        "Collaborated with cross-functional teams in Agile sprints to implement new features.\n",
        "Conducted code reviews to ensure high-quality and maintainable code.\n",
        "Managed CI/CD pipelines and deployment processes using Jenkins.\n",
        "Documented project requirements and created technical documentation for team reference.\n",
        "\"\"\"\n",
        "\n",
        "# Extract work experiences from the resume\n",
        "extracted_experiences = extract_work_experiences(cv_text)\n",
        "print(\"Extracted Work Experiences:\")\n",
        "for experience in extracted_experiences:\n",
        "    print(f\"- {experience}\")\n",
        "\n",
        "\n"
      ],
      "metadata": {
        "colab": {
          "base_uri": "https://localhost:8080/"
        },
        "id": "xGbygAKDaEVo",
        "outputId": "4384316c-8ddb-4ea8-cd40-c156041bc3c2"
      },
      "execution_count": null,
      "outputs": [
        {
          "output_type": "stream",
          "name": "stdout",
          "text": [
            "Extracted Work Experiences:\n",
            "- i updated winsw to be configured by the yaml configuration file\n",
            "under gsoc2020.\n",
            "simply - research project ( ongoing )\n",
            "simple extensible programming language for kids\n",
            "project : https://github.com/odinsvault\n",
            "technologies: java, antlr4, springboot, reactsimply is a web-oriented programming language that is being\n",
            "developed for kids to learn to program easily.\n",
            "- windows service wrapper yaml configuration support\n",
            "xml schema validation\n",
            "tools : c#, dotnet, visual studio, github\n",
            "internal tools development - unit testing tool\n",
            "code refactoring, api development, project planning - car\n",
            "rental system\n",
            "tools : c#, dotnet, angular, visual studio, bitbucket\n",
            "conducted knowledge sharing session series\n",
            "(asynchronous programming)\n",
            "other activities : ds meetings, futsal games, pool\n",
            "competition\n",
            "programming languages\n",
            "java, c#, python, javascript, elixir\n",
            "frameworks\n",
            "antlr4, dotnet, angular\n",
            "database\n",
            "mysql, sql, mongodb\n",
            "version controlling\n",
            "git, github, bitbucket, github desktop, gitkraken\n",
            "non-technical skills\n",
            "leadership, public speaking,   team player\n",
            "windows service wrapper ( winsw )\n",
            "- calang is an educational project that i developed to learn compiler\n",
            "theory.\n"
          ]
        }
      ]
    },
    {
      "cell_type": "code",
      "source": [
        "\n",
        "import matplotlib.pyplot as plt\n",
        "from collections import Counter\n",
        "\n",
        "\n",
        "\n",
        "# Define dictionaries for technical skills only\n",
        "skills_keywords = {\n",
        "    'Programming Languages': [\n",
        "        'Python', 'Java', 'C', 'C++', 'C#', 'JavaScript', 'TypeScript', 'PHP', 'Ruby', 'Go', 'Swift', 'Kotlin', 'Rust'\n",
        "    ],\n",
        "    'Frameworks and Libraries': [\n",
        "        'React', 'Angular', 'Node.js', 'Django', 'Flask', 'Spring', 'Laravel', 'Vue.js', 'Bootstrap', 'TensorFlow',\n",
        "        'Keras', 'PyTorch', 'jQuery', 'Express', 'Next.js', 'Spring Boot', 'Material UI', 'Hibernate', 'FastAPI'\n",
        "    ],\n",
        "    'Databases': [\n",
        "        'MySQL', 'MongoDB', 'PostgreSQL', 'SQLite', 'Oracle', 'SQL Server', 'Firebase', 'DynamoDB', 'Redis'\n",
        "    ],\n",
        "    'Cloud Platforms': [\n",
        "        'AWS', 'Azure', 'Google Cloud', 'Firebase', 'Heroku', 'DigitalOcean', 'Cloudflare', 'IBM Cloud'\n",
        "    ],\n",
        "    'Tools and Technologies': [\n",
        "        'Docker', 'Kubernetes', 'Git', 'GitHub', 'GitLab', 'JIRA', 'Bitbucket', 'Jenkins', 'Ansible', 'Terraform',\n",
        "        'CI/CD', 'Serverless', 'Kibana', 'Elasticsearch', 'Logstash', 'Splunk', 'Figma', 'Postman'\n",
        "    ],\n",
        "    'Development Methodologies': [\n",
        "        'Agile', 'Scrum', 'Kanban', 'DevOps', 'Waterfall', 'Test-Driven Development', 'Behavior-Driven Development'\n",
        "    ]\n",
        "}\n",
        "\n",
        "# Combine all technical skills into a single list for easier matching\n",
        "all_technical_skills = [skill for category in skills_keywords.values() for skill in category]\n",
        "\n",
        "# Function to extract technical skills from project descriptions\n",
        "def extract_technical_skills_from_projects(text):\n",
        "    # Preprocess the text using spaCy to tokenize and process context\n",
        "    doc = nlp(text.lower())\n",
        "\n",
        "    # List to hold extracted technical skills\n",
        "    extracted_technical_skills = []\n",
        "\n",
        "    # Extract sentences from the text that describe projects\n",
        "    for sentence in doc.sents:\n",
        "        sentence_text = sentence.text.strip()\n",
        "\n",
        "        # Check for direct matches with technical skill keywords\n",
        "        for skill in all_technical_skills:\n",
        "            if re.search(r'\\b' + re.escape(skill.lower()) + r'\\b', sentence_text):\n",
        "                extracted_technical_skills.append(skill)\n",
        "\n",
        "    return extracted_technical_skills\n",
        "\n",
        "\n",
        "\n",
        "# Extract technical skills from the projects section of the resume\n",
        "extracted_technical_skills = extract_technical_skills_from_projects(cv_text)\n",
        "\n",
        "# Count the frequency of each technical skill\n",
        "skill_counts = Counter(extracted_technical_skills)\n",
        "\n",
        "# Plotting the skills in a bar chart\n",
        "def plot_skills_bar_chart(skill_counts):\n",
        "    # Extract skill names and their counts\n",
        "    skills = list(skill_counts.keys())\n",
        "    counts = list(skill_counts.values())\n",
        "\n",
        "    # Create a bar chart\n",
        "    plt.figure(figsize=(10, 6))\n",
        "    plt.barh(skills, counts, color='skyblue')\n",
        "    plt.xlabel('Frequency')\n",
        "    plt.ylabel('Technical Skills')\n",
        "    plt.title('Technical Skills Extracted from Resume')\n",
        "    plt.tight_layout()\n",
        "\n",
        "    # Display the chart\n",
        "    plt.show()\n",
        "\n",
        "# Plot the bar chart\n",
        "plot_skills_bar_chart(skill_counts)\n"
      ],
      "metadata": {
        "colab": {
          "base_uri": "https://localhost:8080/",
          "height": 607
        },
        "id": "8GnJyuK3Seix",
        "outputId": "3ed75e9f-7b15-43ea-80e0-54742fcfecc7"
      },
      "execution_count": null,
      "outputs": [
        {
          "output_type": "display_data",
          "data": {
            "text/plain": [
              "<Figure size 1000x600 with 1 Axes>"
            ],
            "image/png": "[encoded data removed]"
          },
          "metadata": {}
        }
      ]
    },
    {
      "cell_type": "code",
      "source": [
        "def extract_work_experience(text):\n",
        "    work_experience = []\n",
        "    # Split text into sentences\n",
        "    sentences = text.split('\\n')\n",
        "    for sentence in sentences:\n",
        "        # Look for common job titles or keywords in sentences\n",
        "        if any(keyword in sentence for keyword in ['Software Engineer', 'Intern', 'Developed', 'Key role']):\n",
        "            work_experience.append(sentence.strip())\n",
        "    return work_experience\n",
        "\n",
        "work_experience = extract_work_experience(cv_text)\n",
        "print(\"Work Experience:\", work_experience)\n"
      ],
      "metadata": {
        "colab": {
          "base_uri": "https://localhost:8080/"
        },
        "id": "yNFWL-rGuP9V",
        "outputId": "8408a95e-b51a-4157-8658-0ef5bfb93843"
      },
      "execution_count": null,
      "outputs": [
        {
          "output_type": "stream",
          "name": "stdout",
          "text": [
            "Work Experience: ['Internal tools development - Unit testing tool', 'Software Engineer | Intern']\n"
          ]
        }
      ]
    },
    {
      "cell_type": "code",
      "source": [
        "\n",
        "\n",
        "# Define dictionaries for technical and soft skills\n",
        "skills_keywords = {\n",
        "    'Technical Skills': [\n",
        "        'Python', 'Java', 'C', 'C++', 'JavaScript', 'TypeScript', 'PHP', 'Ruby', 'Go', 'Swift', 'Kotlin', 'Rust',\n",
        "        'React', 'Angular', 'Node.js', 'Django', 'Flask', 'Spring', 'Laravel', 'Vue.js', 'TensorFlow', 'Keras', 'PyTorch',\n",
        "        'MySQL', 'MongoDB', 'PostgreSQL', 'SQLite', 'Oracle', 'SQL Server', 'AWS', 'Azure', 'Docker', 'Kubernetes', 'Git',\n",
        "        'CI/CD', 'JIRA', 'Bitbucket', 'Jenkins', 'Heroku', 'Google Cloud', 'Redis'\n",
        "    ],\n",
        "    'Soft Skills': [\n",
        "        'Leadership', 'Teamwork', 'Communication', 'Collaboration', 'Problem Solving', 'Time Management',\n",
        "        'Adaptability', 'Creativity', 'Critical Thinking', 'Decision Making', 'Quick Learner'\n",
        "    ]\n",
        "}\n",
        "\n",
        "# Combine all skills into a single list for easier matching\n",
        "all_skills = [skill for category in skills_keywords.values() for skill in category]\n",
        "\n",
        "# Function to extract skills from project descriptions\n",
        "def extract_skills_from_projects(text):\n",
        "    # Preprocess the text using spaCy to tokenize and process context\n",
        "    doc = nlp(text.lower())\n",
        "\n",
        "    # Set to hold unique extracted skills\n",
        "    extracted_skills = set()\n",
        "\n",
        "    # Extract sentences from the text that describe projects\n",
        "    for sentence in doc.sents:\n",
        "        sentence_text = sentence.text.strip()\n",
        "\n",
        "        # Check for direct matches with skill keywords\n",
        "        for skill in all_skills:\n",
        "            if re.search(r'\\b' + re.escape(skill.lower()) + r'\\b', sentence_text):\n",
        "                extracted_skills.add(skill)\n",
        "\n",
        "        # Infer skills from action words (soft skills and implied technical skills)\n",
        "        action_words = ['developed', 'built', 'created', 'designed', 'led', 'implemented', 'managed', 'collaborated', 'worked']\n",
        "        if any(action_word in sentence_text for action_word in action_words):\n",
        "            for token in sentence:\n",
        "                # Check for nouns (potential skill indicators) and match with known skills\n",
        "                if token.pos_ == \"NOUN\" and token.text.capitalize() in all_skills:\n",
        "                    extracted_skills.add(token.text.capitalize())\n",
        "\n",
        "                # Infer soft skills from actions like \"led\", \"collaborated\", etc.\n",
        "                if token.lemma_ in ['lead', 'collaborate', 'communicate', 'manage']:\n",
        "                    extracted_skills.add('Leadership') if token.lemma_ == 'lead' else extracted_skills.add('Teamwork')\n",
        "\n",
        "    return sorted(extracted_skills)\n",
        "\n",
        "\n",
        "# Extract skills from the projects section of the resume\n",
        "extracted_skills = extract_skills_from_projects(cv_text)\n",
        "print(\"Extracted Skills from Projects Section:\")\n",
        "for skill in extracted_skills:\n",
        "    print(f\"- {skill}\")\n",
        "\n"
      ],
      "metadata": {
        "colab": {
          "base_uri": "https://localhost:8080/"
        },
        "id": "mA4wjULZqOYU",
        "outputId": "5c23e07f-5963-44b7-8cc8-612a42fd88f7"
      },
      "execution_count": null,
      "outputs": [
        {
          "output_type": "stream",
          "name": "stdout",
          "text": [
            "Extracted Skills from Projects Section:\n",
            "- AWS\n",
            "- Angular\n",
            "- Bitbucket\n",
            "- C\n",
            "- Git\n",
            "- Google Cloud\n",
            "- Java\n",
            "- JavaScript\n",
            "- Jenkins\n",
            "- Leadership\n",
            "- MongoDB\n",
            "- MySQL\n",
            "- Python\n",
            "- TypeScript\n"
          ]
        }
      ]
    },
    {
      "cell_type": "code",
      "source": [
        "import spacy\n",
        "import re\n",
        "\n",
        "# Load spaCy's English model for NLP\n",
        "nlp = spacy.load(\"en_core_web_sm\")\n",
        "\n",
        "# Define dictionaries for technical skills only\n",
        "skills_keywords = {\n",
        "    'Programming Languages': [\n",
        "        'Python', 'Java', 'C', 'C++', 'C#', 'JavaScript', 'TypeScript', 'PHP', 'Ruby', 'Go', 'Swift', 'Kotlin', 'Rust'\n",
        "    ],\n",
        "    'Frameworks and Libraries': [\n",
        "        'React', 'Angular', 'Node.js', 'Django', 'Flask', 'Spring', 'Laravel', 'Vue.js', 'Bootstrap', 'TensorFlow',\n",
        "        'Keras', 'PyTorch', 'jQuery', 'Express', 'Next.js', 'Spring Boot', 'Material UI', 'Hibernate', 'FastAPI'\n",
        "    ],\n",
        "    'Databases': [\n",
        "        'MySQL', 'MongoDB', 'PostgreSQL', 'SQLite', 'Oracle', 'SQL Server', 'Firebase', 'DynamoDB', 'Redis'\n",
        "    ],\n",
        "    'Cloud Platforms': [\n",
        "        'AWS', 'Azure', 'Google Cloud', 'Firebase', 'Heroku', 'DigitalOcean', 'Cloudflare', 'IBM Cloud'\n",
        "    ],\n",
        "    'Tools and Technologies': [\n",
        "        'Docker', 'Kubernetes', 'Git', 'GitHub', 'GitLab', 'JIRA', 'Bitbucket', 'Jenkins', 'Ansible', 'Terraform',\n",
        "        'CI/CD', 'Serverless', 'Kibana', 'Elasticsearch', 'Logstash', 'Splunk', 'Figma', 'Postman'\n",
        "    ],\n",
        "    'Development Methodologies': [\n",
        "        'Agile', 'Scrum', 'Kanban', 'DevOps', 'Waterfall', 'Test-Driven Development', 'Behavior-Driven Development'\n",
        "    ]\n",
        "}\n",
        "\n",
        "# Combine all technical skills into a single list for easier matching\n",
        "all_technical_skills = [skill for category in skills_keywords.values() for skill in category]\n",
        "\n",
        "# Function to extract technical skills from project descriptions\n",
        "def extract_technical_skills_from_projects(text):\n",
        "    # Preprocess the text using spaCy to tokenize and process context\n",
        "    doc = nlp(text.lower())\n",
        "\n",
        "    # Set to hold unique extracted technical skills\n",
        "    extracted_technical_skills = set()\n",
        "\n",
        "    # Extract sentences from the text that describe projects\n",
        "    for sentence in doc.sents:\n",
        "        sentence_text = sentence.text.strip()\n",
        "\n",
        "        # Check for direct matches with technical skill keywords\n",
        "        for skill in all_technical_skills:\n",
        "            if re.search(r'\\b' + re.escape(skill.lower()) + r'\\b', sentence_text):\n",
        "                extracted_technical_skills.add(skill)\n",
        "\n",
        "        # Infer technical skills from action words (technical implementation)\n",
        "        action_words = ['developed', 'built', 'created', 'designed', 'implemented', 'managed', 'worked']\n",
        "        if any(action_word in sentence_text for action_word in action_words):\n",
        "            for token in sentence:\n",
        "                # Check for nouns (potential skill indicators) and match with known technical skills\n",
        "                if token.pos_ == \"NOUN\" and token.text.capitalize() in all_technical_skills:\n",
        "                    extracted_technical_skills.add(token.text.capitalize())\n",
        "\n",
        "    return sorted(extracted_technical_skills)\n",
        "\n",
        "\n",
        "# Extract technical skills from the projects section of the resume\n",
        "extracted_technical_skills = extract_technical_skills_from_projects(cv_text)\n",
        "print(\"Extracted Technical Skills from Projects Section:\")\n",
        "for skill in extracted_technical_skills:\n",
        "    print(f\"- {skill}\")\n"
      ],
      "metadata": {
        "colab": {
          "base_uri": "https://localhost:8080/"
        },
        "id": "VEaoYUH7--Ur",
        "outputId": "58ddedbb-918b-4bf0-d3b8-d622255d4f05"
      },
      "execution_count": null,
      "outputs": [
        {
          "output_type": "stream",
          "name": "stdout",
          "text": [
            "Extracted Technical Skills from Projects Section:\n",
            "- AWS\n",
            "- Agile\n",
            "- Angular\n",
            "- Bitbucket\n",
            "- C\n",
            "- DevOps\n",
            "- Git\n",
            "- GitHub\n",
            "- Google Cloud\n",
            "- Java\n",
            "- JavaScript\n",
            "- Jenkins\n",
            "- MongoDB\n",
            "- MySQL\n",
            "- Python\n",
            "- TypeScript\n"
          ]
        }
      ]
    },
    {
      "cell_type": "code",
      "source": [],
      "metadata": {
        "colab": {
          "base_uri": "https://localhost:8080/"
        },
        "id": "ikgPPtVr-Agc",
        "outputId": "8d12367b-6f27-4ce9-8800-03dfba2f5759"
      },
      "execution_count": null,
      "outputs": [
        {
          "output_type": "stream",
          "name": "stdout",
          "text": [
            "Extracted Skills from Projects Section:\n",
            "- MongoDB\n",
            "- Python\n"
          ]
        }
      ]
    },
    {
      "cell_type": "code",
      "source": [
        "def extract_achievements(text):\n",
        "    achievements = []\n",
        "    # Split the text into lines\n",
        "    lines = text.split('\\n')\n",
        "\n",
        "    # Keywords to detect achievements\n",
        "    achievement_keywords = ['achievement', 'awarded', 'recognized', 'won', 'accomplished', 'Key role', 'Key achievement', 'improved', 'enhanced', 'successfully']\n",
        "\n",
        "    current_achievement = None\n",
        "\n",
        "    for line in lines:\n",
        "        # Check if the line contains any achievement-related keywords\n",
        "        if any(keyword.lower() in line.lower() for keyword in achievement_keywords):\n",
        "            if current_achievement:\n",
        "                achievements.append(current_achievement.strip())\n",
        "            current_achievement = line.strip()\n",
        "        elif current_achievement:\n",
        "            current_achievement += \" \" + line.strip()\n",
        "\n",
        "    if current_achievement:\n",
        "        achievements.append(current_achievement.strip())  # Append the last achievement\n",
        "\n",
        "    return achievements\n",
        "\n",
        "# Extract achievements\n",
        "achievements = extract_achievements(cv_text)\n",
        "print(\"Achievements:\")\n",
        "for achievement in achievements:\n",
        "    print(f\"- {achievement}\")\n"
      ],
      "metadata": {
        "colab": {
          "base_uri": "https://localhost:8080/"
        },
        "id": "_m_KYshFAWcb",
        "outputId": "72f21e35-73ec-4fda-e3e9-24146c8b8984"
      },
      "execution_count": null,
      "outputs": [
        {
          "output_type": "stream",
          "name": "stdout",
          "text": [
            "Achievements:\n",
            "- Wondershare Filmora,  Cisco Packet Tracer,Blender,WEKA, Protégé -OWL, NLTK, OpenCV  Related Course Works : NLP, AI, Semantic Web,Data mining, Image Processing, Enterprise Application Development  NON -TECHNICAL SKILLS  Web Development  Blog Writing  Mathematics  Dancing  REFEREES Mr. S.C. Premaratne Department Head /Senior Lecturer Faculty of Information Technology University of Moratuwa . Mobile: +94 714413362 E-mail: samindap@uom.lk  Mr. Sathya Ganepola COO/Software Architect Infosoft Lanka (Pvt.) Ltd Nawam Mawatha, Colombo 02. Mobile: +94 718099045 E-mail: sathya@infosoft.lk  QUICK FOODIE - FOOD ORDERING APP (Individual  Project) | 2020 A simple web application whic h can be used to manage food  in a restaurant. Customers can login to system externally and order food and pay online. Technologies:  ASP.NET Web Forms, MSSQL  WATER QUALITY MEASURING DEVICE | 2019 A microcontroller -based project is used to measure water quality by using pH, turbidity and temperature values. Technologies : C, Atmega 32A,  Sensor Module s INDEPENDENT RESEARCH ON REAL -TIME BIDDING ONLINE ADVERTISING (Level 3 - Independent Study)  | 2019 A critical evaluation and a literature review on existing methodologies for real time bidding in online advertising.  AUTOMATED PADDY SPREADING UNIT (Level 1 - Hardware Project) | 2017 A microcontroller -based hardware system with an automated paddy spreading unit develop using microcontroller which is capable of carrying and spreading paddy seeds. Technologies : C, Atmega 32A\n",
            "- ACHIEVEMENTS  Placed among the top 30 teams Mor a Xtreme 3.0 Coding Competition - 2018  Participated in  Hack Moral v1.0 Coding competition - 2018  Participat ed in  Fit Code Rush Coding Competition - 2018  Participated in Fit Code Rush Coding Competition - 2020 OTHER EXPERIENCES  Followed six month Java Programming Language Course at Dekma Institute,  Matara  - 2016 Jan -2016 Jun  Company coordin ator in Fit Future Careers Official Career Fair, Faculty of Information Technology,  University of Moratuwa  - 2018  Open Source Contributor for the Hacktoberfest - 2018 &  2019  Active Blogger: https://chathurangijayawardana.blogspot.com/  and https://chathurangijayawardana.medium.com/  Passed the Basi c English Language Course  with 4 Distinction Passes for Reading, Listening, Speaking & Writing at B -HOOD English Institute, Matara - 2014  Passed the Basic Tamil Language Course with a Distinction pass  at Dakuna E ducational Institute,  Matara - 2014  Member of the Senior Prefect board i n School and Member of the Senior Prefect board in Dhamma School - 2009 & 2010  INTERESTS   CERTIFICATIONS   Succe ssfully completed SCRUM Foundation Professional Certificate  Succe ssfully completed Kanban  Foundation Certificate  Achieved Gold badges and Certificates for Java, C, Problem Solving and SQL in HackerRank - HackerRank Profile  Followed  Python3,  C, C#, C++, Java,  HTML, PHP, JS , React  and JQuery cert ification cours es in SoloLearn - SoloLearn Profile  Completed certification courses which specialization for web development in Udemy  Completed Data Science based certification courses in Analytics Vidhya  Team Work  Leadership  Quick Learner  Time Management\n"
          ]
        }
      ]
    },
    {
      "cell_type": "code",
      "source": [
        "def extract_skills(text):\n",
        "    skills = []\n",
        "    # Split the text into lines\n",
        "    lines = text.split('\\n')\n",
        "\n",
        "    # Define common technical and soft skills keywords\n",
        "    skill_keywords = [\n",
        "        'Python', 'Java', 'C#', 'JavaScript', 'React.js', 'Angular', 'SQL', 'MongoDB',\n",
        "        'Docker', 'Kubernetes', 'HTML', 'CSS', 'Tailwind CSS', 'Azure', 'AWS', 'Machine Learning',\n",
        "        'Data Science', 'TensorFlow', 'Keras', 'Flask', 'Redux', 'Node.js', 'Express.js',\n",
        "        'Git', 'CI/CD', 'Agile', 'Scrum', 'Leadership', 'Teamwork', 'Communication'\n",
        "    ]\n",
        "\n",
        "    # Check for lines that mention skills or match known skill keywords\n",
        "    for line in lines:\n",
        "        # If the line contains the word 'Skill', we assume it's a skills section\n",
        "        if 'skill' in line.lower():\n",
        "            skills.append(line.strip())\n",
        "        else:\n",
        "            # Check if the line contains any skill keywords\n",
        "            for keyword in skill_keywords:\n",
        "                if keyword in line and keyword not in skills:\n",
        "                    skills.append(keyword)\n",
        "\n",
        "    return skills\n",
        "\n",
        "# Extract skills\n",
        "skills = extract_skills(cv_text)\n",
        "print(\"Skills:\")\n",
        "for skill in skills:\n",
        "    print(f\"- {skill}\")\n"
      ],
      "metadata": {
        "colab": {
          "base_uri": "https://localhost:8080/"
        },
        "id": "RNj0IoPaAzo5",
        "outputId": "277ae815-4ff4-46fe-a6b9-08dac1375f75"
      },
      "execution_count": null,
      "outputs": [
        {
          "output_type": "stream",
          "name": "stdout",
          "text": [
            "Skills:\n",
            "- Python, Java, C, BallerinaPROFESSIONAL SKILLS\n",
            "- Java\n",
            "- JavaScript\n",
            "- Angular\n",
            "- HTML\n",
            "- CSS\n",
            "- AWS\n",
            "- SQL\n",
            "- MongoDB\n",
            "- Git\n",
            "- Other Technical Skills:\n",
            "- Scrum\n",
            "- Other Skills:\n",
            "- Python\n"
          ]
        }
      ]
    },
    {
      "cell_type": "code",
      "source": [
        "def extract_soft_skills(text):\n",
        "    soft_skills = []\n",
        "    # Define common soft skills keywords\n",
        "    soft_skill_keywords = [\n",
        "        'communication', 'leadership', 'teamwork', 'problem-solving', 'adaptability',\n",
        "        'time management', 'creativity', 'critical thinking', 'collaboration', 'empathy',\n",
        "        'conflict resolution', 'organization', 'work ethic', 'interpersonal skills',\n",
        "        'decision making', 'flexibility', 'negotiation', 'attention to detail'\n",
        "    ]\n",
        "\n",
        "    # Split the text into lines\n",
        "    lines = text.split('\\n')\n",
        "\n",
        "    # Check for soft skills mentioned in the text\n",
        "    for line in lines:\n",
        "        for keyword in soft_skill_keywords:\n",
        "            if keyword.lower() in line.lower() and keyword not in soft_skills:\n",
        "                soft_skills.append(keyword)\n",
        "\n",
        "    return soft_skills\n",
        "\n",
        "# Extract soft skills\n",
        "soft_skills = extract_soft_skills(cv_text)\n",
        "print(\"Soft Skills:\")\n",
        "for skill in soft_skills:\n",
        "    print(f\"- {skill}\")\n"
      ],
      "metadata": {
        "colab": {
          "base_uri": "https://localhost:8080/"
        },
        "id": "GyH75YMFMBrN",
        "outputId": "1fd7e936-29af-41de-9706-e805e44a498a"
      },
      "execution_count": null,
      "outputs": [
        {
          "output_type": "stream",
          "name": "stdout",
          "text": [
            "Soft Skills:\n",
            "- collaboration\n"
          ]
        }
      ]
    },
    {
      "cell_type": "code",
      "source": [
        "def extract_technical_skills(text):\n",
        "    technical_skills = []\n",
        "    # Define common technical skills keywords\n",
        "    technical_skill_keywords = [\n",
        "        'Python', 'Java', 'C#', 'JavaScript', 'React.js', 'Angular', 'SQL', 'MongoDB',\n",
        "        'Docker', 'Kubernetes', 'HTML', 'CSS', 'Tailwind CSS', 'Azure', 'AWS', 'Machine Learning',\n",
        "        'Data Science', 'TensorFlow', 'Keras', 'Flask', 'Redux', 'Node.js', 'Express.js',\n",
        "        'Git', 'CI/CD', 'Agile', 'Scrum', 'Firebase', 'MySQL', 'PostgreSQL', 'NoSQL', 'Linux',\n",
        "        'RESTful APIs', 'GraphQL', 'DevOps', 'Nginx', 'Firebase', 'Android Studio', 'Kotlin', 'Swift'\n",
        "    ]\n",
        "\n",
        "    # Split the text into lines\n",
        "    lines = text.split('\\n')\n",
        "\n",
        "    # Check for technical skills mentioned in the text\n",
        "    for line in lines:\n",
        "        for keyword in technical_skill_keywords:\n",
        "            if keyword.lower() in line.lower() and keyword not in technical_skills:\n",
        "                technical_skills.append(keyword)\n",
        "\n",
        "    return technical_skills\n",
        "\n",
        "# Extract technical skills\n",
        "technical_skills = extract_technical_skills(cv_text)\n",
        "print(\"Technical Skills:\")\n",
        "for skill in technical_skills:\n",
        "    print(f\"- {skill}\")\n"
      ],
      "metadata": {
        "colab": {
          "base_uri": "https://localhost:8080/"
        },
        "id": "dXMb3Nc5ViWT",
        "outputId": "6babbcb4-4c57-49b8-8494-7839ac831960"
      },
      "execution_count": null,
      "outputs": [
        {
          "output_type": "stream",
          "name": "stdout",
          "text": [
            "Technical Skills:\n",
            "- Git\n",
            "- Python\n",
            "- Java\n",
            "- JavaScript\n",
            "- Angular\n",
            "- HTML\n",
            "- CSS\n",
            "- AWS\n",
            "- SQL\n",
            "- MongoDB\n",
            "- Firebase\n",
            "- MySQL\n",
            "- Scrum\n",
            "- Machine Learning\n",
            "- TensorFlow\n"
          ]
        }
      ]
    },
    {
      "cell_type": "code",
      "source": [
        "def extract_project_management_tools(text):\n",
        "    project_management_tools = []\n",
        "    # Define common project management tools keywords\n",
        "    project_management_tool_keywords = [\n",
        "        'Jira', 'Trello', 'Asana', 'Monday.com', 'Basecamp', 'Slack', 'ClickUp', 'Microsoft Project',\n",
        "        'Notion', 'Wrike', 'Smartsheet', 'Zoho Projects', 'Airtable', 'GitLab', 'Confluence', 'Kanban',\n",
        "        'Scrum', 'Agile', 'Pivotal Tracker', 'Redmine'\n",
        "    ]\n",
        "\n",
        "    # Split the text into lines\n",
        "    lines = text.split('\\n')\n",
        "\n",
        "    # Check for project management tools mentioned in the text\n",
        "    for line in lines:\n",
        "        for keyword in project_management_tool_keywords:\n",
        "            if keyword.lower() in line.lower() and keyword not in project_management_tools:\n",
        "                project_management_tools.append(keyword)\n",
        "\n",
        "    return project_management_tools\n",
        "\n",
        "# Extract project management tools\n",
        "project_management_tools = extract_project_management_tools(cv_text)\n",
        "print(\"Project Management Tools:\")\n",
        "for tool in project_management_tools:\n",
        "    print(f\"- {tool}\")\n"
      ],
      "metadata": {
        "colab": {
          "base_uri": "https://localhost:8080/"
        },
        "id": "dY7029j_V2lw",
        "outputId": "a662404b-7cf3-43e0-8aab-9c5e6ef4b66e"
      },
      "execution_count": null,
      "outputs": [
        {
          "output_type": "stream",
          "name": "stdout",
          "text": [
            "Project Management Tools:\n",
            "- Scrum\n",
            "- Kanban\n"
          ]
        }
      ]
    },
    {
      "cell_type": "code",
      "source": [
        "def extract_software_development_methodologies(text):\n",
        "    methodologies = []\n",
        "    # Define common software development methodologies\n",
        "    methodology_keywords = [\n",
        "        'Agile', 'Scrum', 'Kanban', 'Waterfall', 'Lean', 'DevOps', 'Extreme Programming', 'XP',\n",
        "        'Spiral', 'V-Model', 'RAD', 'Rapid Application Development', 'Prototyping',\n",
        "        'Incremental', 'Iterative', 'Feature Driven Development', 'FDD'\n",
        "    ]\n",
        "\n",
        "    # Split the text into lines\n",
        "    lines = text.split('\\n')\n",
        "\n",
        "    # Check for methodologies mentioned in the text\n",
        "    for line in lines:\n",
        "        for keyword in methodology_keywords:\n",
        "            if keyword.lower() in line.lower() and keyword not in methodologies:\n",
        "                methodologies.append(keyword)\n",
        "\n",
        "    return methodologies\n",
        "\n",
        "# Extract software development methodologies\n",
        "methodologies = extract_software_development_methodologies(cv_text)\n",
        "print(\"Software Development Methodologies:\")\n",
        "for methodology in methodologies:\n",
        "    print(f\"- {methodology}\")\n"
      ],
      "metadata": {
        "colab": {
          "base_uri": "https://localhost:8080/"
        },
        "id": "2AvOPsYWWJNI",
        "outputId": "08e424ea-1485-4145-b3c3-1efb94ddb436"
      },
      "execution_count": null,
      "outputs": [
        {
          "output_type": "stream",
          "name": "stdout",
          "text": [
            "Software Development Methodologies:\n",
            "- XP\n",
            "- Scrum\n",
            "- RAD\n"
          ]
        }
      ]
    },
    {
      "cell_type": "code",
      "source": [
        "def extract_relational_databases(text):\n",
        "    relational_databases = []\n",
        "    # Define common relational database systems\n",
        "    relational_database_keywords = [\n",
        "        'MySQL', 'PostgreSQL', 'Oracle', 'SQL Server', 'SQLite', 'MariaDB', 'DB2', 'Sybase',\n",
        "        'MS SQL', 'Microsoft SQL Server', 'Amazon RDS', 'AWS RDS'\n",
        "    ]\n",
        "\n",
        "    # Split the text into lines\n",
        "    lines = text.split('\\n')\n",
        "\n",
        "    # Check for relational databases mentioned in the text\n",
        "    for line in lines:\n",
        "        for keyword in relational_database_keywords:\n",
        "            if keyword.lower() in line.lower() and keyword not in relational_databases:\n",
        "                relational_databases.append(keyword)\n",
        "\n",
        "    return relational_databases\n",
        "\n",
        "# Extract relational databases\n",
        "relational_databases = extract_relational_databases(cv_text)\n",
        "print(\"Relational Databases:\")\n",
        "for db in relational_databases:\n",
        "    print(f\"- {db}\")\n"
      ],
      "metadata": {
        "colab": {
          "base_uri": "https://localhost:8080/"
        },
        "id": "rC0n04U2WWdW",
        "outputId": "d1082197-8f3a-4958-e193-15161dafd671"
      },
      "execution_count": null,
      "outputs": [
        {
          "output_type": "stream",
          "name": "stdout",
          "text": [
            "Relational Databases:\n",
            "- MySQL\n"
          ]
        }
      ]
    },
    {
      "cell_type": "code",
      "source": [
        "def extract_document_databases(text):\n",
        "    document_databases = []\n",
        "    # Define common document database systems\n",
        "    document_database_keywords = [\n",
        "        'MongoDB', 'CouchDB', 'Firebase', 'Couchbase', 'Amazon DocumentDB', 'RethinkDB',\n",
        "        'RavenDB', 'Azure Cosmos DB', 'DynamoDB'\n",
        "    ]\n",
        "\n",
        "    # Split the text into lines\n",
        "    lines = text.split('\\n')\n",
        "\n",
        "    # Check for document databases mentioned in the text\n",
        "    for line in lines:\n",
        "        for keyword in document_database_keywords:\n",
        "            if keyword.lower() in line.lower() and keyword not in document_databases:\n",
        "                document_databases.append(keyword)\n",
        "\n",
        "    return document_databases\n",
        "\n",
        "# Extract document databases\n",
        "document_databases = extract_document_databases(cv_text)\n",
        "print(\"Document Databases:\")\n",
        "for db in document_databases:\n",
        "    print(f\"- {db}\")\n"
      ],
      "metadata": {
        "colab": {
          "base_uri": "https://localhost:8080/"
        },
        "id": "2tyk0XbxXD5W",
        "outputId": "7300d7df-4e6b-465a-f2ea-0ca487b89c2c"
      },
      "execution_count": null,
      "outputs": [
        {
          "output_type": "stream",
          "name": "stdout",
          "text": [
            "Document Databases:\n",
            "- MongoDB\n",
            "- Firebase\n"
          ]
        }
      ]
    },
    {
      "cell_type": "code",
      "source": [
        "def extract_programming_languages(text):\n",
        "    programming_languages = []\n",
        "    # Define common programming languages\n",
        "    programming_language_keywords = [\n",
        "        'Python', 'Java', 'C', 'C++', 'C#', 'JavaScript', 'Ruby', 'Go', 'Swift', 'Kotlin', 'PHP',\n",
        "        'TypeScript', 'R', 'Perl', 'Objective-C', 'Rust', 'Scala', 'Dart', 'Haskell', 'MATLAB',\n",
        "        'Shell', 'PowerShell', 'SQL', 'Bash', 'HTML', 'CSS', 'SASS', 'Fortran', 'COBOL'\n",
        "    ]\n",
        "\n",
        "    # Split the text into lines\n",
        "    lines = text.split('\\n')\n",
        "\n",
        "    # Check for programming languages mentioned in the text\n",
        "    for line in lines:\n",
        "        for keyword in programming_language_keywords:\n",
        "            if keyword.lower() in line.lower() and keyword not in programming_languages:\n",
        "                programming_languages.append(keyword)\n",
        "\n",
        "    return programming_languages\n",
        "\n",
        "# Extract programming languages\n",
        "programming_languages = extract_programming_languages(cv_text)\n",
        "print(\"Programming Languages:\")\n",
        "for language in programming_languages:\n",
        "    print(f\"- {language}\")\n"
      ],
      "metadata": {
        "colab": {
          "base_uri": "https://localhost:8080/"
        },
        "id": "ZM_-D0QlXPh6",
        "outputId": "f2d6cf9c-e7e0-450e-81e2-665c2a339969"
      },
      "execution_count": null,
      "outputs": [
        {
          "output_type": "stream",
          "name": "stdout",
          "text": [
            "Programming Languages:\n",
            "- R\n",
            "- C\n",
            "- Go\n",
            "- C#\n",
            "- Python\n",
            "- Java\n",
            "- JavaScript\n",
            "- SQL\n",
            "- C++\n",
            "- TypeScript\n"
          ]
        }
      ]
    },
    {
      "cell_type": "code",
      "source": [
        "def extract_software_development_tools(text):\n",
        "    development_tools = []\n",
        "    # Define common software development tools\n",
        "    software_tools_keywords = [\n",
        "        'Git', 'GitHub', 'GitLab', 'Bitbucket', 'VS Code', 'Visual Studio', 'Eclipse', 'IntelliJ IDEA', 'PyCharm',\n",
        "        'Xcode', 'Android Studio', 'Docker', 'Kubernetes', 'Jenkins', 'Maven', 'Gradle', 'NPM', 'Yarn',\n",
        "        'Postman', 'Swagger', 'Travis CI', 'CircleCI', 'Ansible', 'Vagrant', 'Selenium', 'Jira', 'Azure DevOps',\n",
        "        'Heroku', 'Firebase', 'AWS', 'Google Cloud', 'Azure', 'Terraform', 'Chef', 'Puppet', 'Figma', 'Trello', 'Slack'\n",
        "    ]\n",
        "\n",
        "    # Split the text into lines\n",
        "    lines = text.split('\\n')\n",
        "\n",
        "    # Check for development tools mentioned in the text\n",
        "    for line in lines:\n",
        "        for keyword in software_tools_keywords:\n",
        "            if keyword.lower() in line.lower() and keyword not in development_tools:\n",
        "                development_tools.append(keyword)\n",
        "\n",
        "    return development_tools\n",
        "\n",
        "# Extract software development tools\n",
        "development_tools = extract_software_development_tools(cv_text)\n",
        "print(\"Software Development Tools:\")\n",
        "for tool in development_tools:\n",
        "    print(f\"- {tool}\")\n"
      ],
      "metadata": {
        "colab": {
          "base_uri": "https://localhost:8080/"
        },
        "id": "MThmdLezXpk2",
        "outputId": "1fe8adf5-b8de-4b21-cebf-42dd3f87e7fb"
      },
      "execution_count": null,
      "outputs": [
        {
          "output_type": "stream",
          "name": "stdout",
          "text": [
            "Software Development Tools:\n",
            "- Git\n",
            "- GitHub\n",
            "- Visual Studio\n",
            "- Eclipse\n",
            "- PyCharm\n"
          ]
        }
      ]
    },
    {
      "cell_type": "code",
      "source": [
        "def extract_frameworks(text):\n",
        "    frameworks = []\n",
        "    # Define common frameworks\n",
        "    framework_keywords = [\n",
        "        'Django', 'Flask', 'React', 'Angular', 'Vue.js', 'Spring', 'Express', 'Rails', 'Ruby on Rails',\n",
        "        'Laravel', 'ASP.NET', 'Node.js', 'Next.js', 'Bootstrap', 'Tailwind CSS', 'Foundation',\n",
        "        'jQuery', 'Svelte', 'Nuxt.js', 'Redux', 'Keras', 'TensorFlow', 'Pandas', 'Hadoop',\n",
        "        'Spark', 'Vue', 'Symfony', 'Zend', 'CakePHP', 'Meteor', 'FastAPI', 'Quasar', 'Phoenix', 'Ionic'\n",
        "    ]\n",
        "\n",
        "    # Split the text into lines\n",
        "    lines = text.split('\\n')\n",
        "\n",
        "    # Check for frameworks mentioned in the text\n",
        "    for line in lines:\n",
        "        for keyword in framework_keywords:\n",
        "            if keyword.lower() in line.lower() and keyword not in frameworks:\n",
        "                frameworks.append(keyword)\n",
        "\n",
        "    return frameworks\n",
        "\n",
        "# Extract frameworks\n",
        "frameworks = extract_frameworks(cv_text)\n",
        "print(\"Frameworks:\")\n",
        "for framework in frameworks:\n",
        "    print(f\"- {framework}\")\n"
      ],
      "metadata": {
        "colab": {
          "base_uri": "https://localhost:8080/"
        },
        "id": "EoMliqouXai2",
        "outputId": "faa4e4f8-c4e3-4d50-bd7e-bfe2ca1ea647"
      },
      "execution_count": null,
      "outputs": [
        {
          "output_type": "stream",
          "name": "stdout",
          "text": [
            "Frameworks:\n",
            "- React\n",
            "- Angular\n",
            "- Express\n",
            "- Bootstrap\n",
            "- TensorFlow\n",
            "- Foundation\n"
          ]
        }
      ]
    },
    {
      "cell_type": "code",
      "source": [
        "import re\n",
        "\n",
        "def extract_professional_references(text):\n",
        "    references = []\n",
        "    # Define keywords commonly used for references\n",
        "    reference_keywords = ['References', 'Referees', 'Professional References', 'Industry References', 'Contact', 'Email', 'Phone', 'Mobile']\n",
        "\n",
        "    # Split the text into lines\n",
        "    lines = text.split('\\n')\n",
        "\n",
        "    # Variable to accumulate reference details\n",
        "    current_reference = None\n",
        "\n",
        "    # Scan through lines to find references\n",
        "    for line in lines:\n",
        "        if any(keyword.lower() in line.lower() for keyword in reference_keywords):\n",
        "            if current_reference:\n",
        "                references.append(current_reference.strip())  # Save the previous reference\n",
        "            current_reference = line.strip()  # Start a new reference accumulation\n",
        "        elif current_reference:\n",
        "            current_reference += \" \" + line.strip()  # Keep appending the reference details\n",
        "\n",
        "    if current_reference:\n",
        "        references.append(current_reference.strip())  # Append the last reference\n",
        "\n",
        "    return references\n",
        "\n",
        "\n",
        "\n",
        "# Extract professional references from the CV\n",
        "professional_references = extract_professional_references(cv_text)\n",
        "\n",
        "# Display the extracted references\n",
        "print(\"Extracted Professional References:\")\n",
        "for ref in professional_references:\n",
        "    print(f\"- {ref}\")\n"
      ],
      "metadata": {
        "colab": {
          "base_uri": "https://localhost:8080/"
        },
        "id": "gPDd_RIfYNgQ",
        "outputId": "e4b26b4c-93bd-48de-bbf7-a7777c5827e6"
      },
      "execution_count": null,
      "outputs": [
        {
          "output_type": "stream",
          "name": "stdout",
          "text": [
            "Extracted Professional References:\n",
            "- PHONE +94 77 5543531\n",
            "- EMAIL charuka09@gmail.com LINKEDIN https://www.linkedin.com/in/charuka-herath/ GITHUB https://github.com/Charuka09 STACKOVERFLOW https://stackoverflow.com/users/8503955/charuka- herath MEDIUM https://medium.com/@charuka95HOW TO REACH ME Programming Languages: Python, Java, C, BallerinaPROFESSIONAL SKILLS Web Development: JavaScript, TypeScript, Angular, React, NodeJs, ExpressJs, Serverless: nodeJs, python, HTML, CSS, Bootstrap, Material Ui\n",
            "- Mobile Development: React-native, IOS (entry-level) Cloud Based Technologies: AWS Databases: MySQL, MongoDB, Firebase Version Controlling: GitHub, GitLab, BitBucket Other Technical Skills: Jira, Scrum Other Skills: Team player, Quick learner, Leader, Public SpeakerUniversity of Moratuwa - Faculty of Information Technology B.Sc (Hons) Degree in Information Technology (Reading - Expected 2021) CGPA - 3.60  (Dean's list L1S1 SGPA - 4.04) Ranabima Royal College - Kandy G.C.E. Advanced Level – Physical Science Stream (2015) Results: Combined Mathematics – B, Chemistry – B, Physics – B G.C.E Ordinary Level (2011) Results: A - 8, C - 1 WORK EXPERIENCE WSO2 - Software Engineer (Intern) - 2019-09 - 2020-03 Contributed to develop WSO2 OPD claims app Developed WSO2 Expense management.system Electorbeam - Software Engineer (part-time) 2019-07 - 2020-10\n",
            "- Contributed to develop Udinate.com (web and mobile) Contributed to develop tax-co Canada-client web app Devcave.io - Co-Founder and Software Engineer (part-time) 2018-10 - Present Contributed to the development of client projects MPF- 2019, ERP System for MHMC Plant and Popomates. GPBL-Tokyo, Japan -   2019-07 - 2019-08 Represented the University for Global Project Based Learning(GPBL) machine learning and image processing workshop held at Shibaura Institute of Technology, Tokyo, Japan PROJECTS WSO2 OPD claims applicaion This was my first internship project. WSO2 OPD claims application is a web app which LK based employees can submit OPD claims to WSO2 finance. Role  - Backend Developer Technologies -  Ballerina, Java, servlet, SuiteScripts, MySQL Netsuite, SuiteScriptsFitzky -   Freelance frontend developer (2018-10 - 2019-01) Fitzky Web Portal WSO2 Expense Claims Application This was my second internship project. WSO2 Expense Claims Application is a web app through which worldwide WSO2 employees can manage their expenses with WSO2 finance. Role  - FullStack Developer Technologies -  React, Material UI, Ballerina, Java, servlet, SuiteScripts, MySQL Netsuite, SuiteScripts Software Risk Management System (2018) Second year industrial based project done in collaboration with 99x (pvt) ltd Role  - Fullstack Developer Technologies -  Angular, Bootstrap, Mongodb, Express NodeTS, Cloud FireStoreMr. Yasith Nakandala Associate Director, WSO2 Inc, 20, Palm Grove, Colombo 3, Sri Lanka.\n",
            "- Mobile: +94 77 751 2900\n",
            "- email: yasith@wso2.comDr. G. Upeksha Ganegoda Department of Inter Disciplinary Studies, Faculty of Information Technology, University of Moratuwa, Katubedda,Sri Lanka.\n",
            "- Mobile : +94 71 9968294\n",
            "- email : upekshag@uom.lkMaldives Partnership Forum 2019 - Mobile app (2019)\n",
            "- My team and I developed an interactive mobile app for the event which allows the participants to explore the forum, add direct questions to speakers, and download and view supportive documents of the forum.\n",
            "- Role  - Mobile Developer Technologies -  React-native Apple app store - https://apps.apple.com/us/app/mpf-2019/id1468059560 Play store - https://play.google.com/store/apps/details? id=com.keeneye.mpf2019 Continuous User Authentication Using Behavioral Biometrices (Ongoing) This is my final year research project. We are conducting a research on implementing a continuous user authentication\n",
            "- system for mobile devices using behavioral biometrics. Technologies -  Neural Networks, Tensorflow, React Native, Firebase Popomates (2020 - Present) Social media platform for pets and their owners. Role  - Mentor Technologies -  React, React Native, MYSQL, Serverless - NodeJS, Jira ERP System for MHMC Plant (2018 - 2019) ERP system for a metal crusher plant which they use it to manage all their daily work and to monitor resources. Role  - Fullstack Developer Technologies -  React, React Native, MYSQL, Serverless - NodeJS, JiraUdinate (2019-07 - 2020-04) Udinate is a unique online marketplace that facilitates event services and event rentals.The public portal is web based and\n",
            "- there is a mobile app for vendors. Role  - Fullstack Developer Technologies -  Angular, Bootstrap, React Native, MongoDB, NodeJS, AWS, Firebase realtime database, trello Web  - https://udinate.com/ Taxco (2020-03 - 2020-07) Taxco is Canada's only web-based online app for government audits & reviews. Role  - Fullstack Developer, Database Designer Technologies -  Angular, Bootstrap, MySQL-RDS, Serverless- Python, AWS, trello Web  - https://taxco.ca/ACHIEVEMENTS Realhack - Finalist Inter university hackathon organized by Software Engineering student union, University of Kelaniya. Coderush 2017 - 6th Place Organized by INTECS Faculty of Information Technology University of Moratuwa. ACES Coders V7 - 18th Place Island wide 24 hour problem solving competition organized by Faculty of engineering, University of Peradeniya. MoraXtreme 2018/2019 12 hour problem solving competition organized by IEEE student branch of University of Moratuwa. Ranked O(N) on Hackerrank https://www.hackerrank.com/charuka09 GPBL - SriLanka(2017) and Japan(2019) GPBL machine learning and image processing workshop held in Sri Lanka in collaboration with Shibaura Institute of Technology, Japan. SAAP (2017) Quiz app like kahoot developed for Social event of the Faculty. Role  - Fullstack Developer Technologies -  Angular, Bootstrap, Firebase Fitzky web portal (2018) Web portal for instructors of fitzky, fitness based app. Role  - Frontend Developer Technologies -  Angular, BootstrapOTHER EXPERIENCES Volunteer Stemup Foundation, MIcroBit IEEE student branch - MERCON Research Conference Mentor HackBit-24 hour overnight hackathon organized by StemUp foundation and Microsoft Sri Lanka Organizer MoraXtreme 3.0 and 4.0 - Organized by IEEE-UOM HackMoral 1.0 - Organized by INTECS Announcer Rotaract MoraAssistant Head Prefect - Ranabima Royal College (2014) Former Member of AIESEC club, Gavel club Rotaract club HOBBIES AND INTERESTS Blogging , Reading Cricket, Rugby, Chess Sightseeing, Nature photography Dogs Rocket science Vlogging\n",
            "- NON-RELATED REFEREESSchool Scout (2006-2013) Naval cadet (2009-2010) Badminton team Debetting team Chess team Schools U17 Cricket team Web  - https://capp-99338.firebaseapp.com/\n"
          ]
        }
      ]
    },
    {
      "cell_type": "code",
      "source": [
        "def extract_degrees(text):\n",
        "    degrees = []\n",
        "    # Define common degree-related keywords\n",
        "    degree_keywords = [\n",
        "        'Bachelor', 'BSc', 'MSc', 'Master', 'PhD', 'Diploma', 'Degree', 'Certification', 'Hons'\n",
        "    ]\n",
        "\n",
        "    # Define common specializations or areas of study\n",
        "    specialization_keywords = [\n",
        "        'Information Technology', 'Computer Science', 'Software Engineering', 'Mechanical Engineering',\n",
        "        'Data Science', 'Artificial Intelligence', 'Electrical Engineering', 'Business Administration',\n",
        "        'Marketing', 'Finance', 'Mechanical Engineering Technology', 'Civil Engineering', 'Human Resource Management'\n",
        "    ]\n",
        "\n",
        "    # Split the text into lines\n",
        "    lines = text.split('\\n')\n",
        "\n",
        "    current_degree = None\n",
        "    current_specialization = None\n",
        "\n",
        "    for line in lines:\n",
        "        # Check for degree-related keywords\n",
        "        if any(keyword in line for keyword in degree_keywords):\n",
        "            current_degree = line.strip()\n",
        "\n",
        "        # Check for specialization-related keywords\n",
        "        if any(keyword in line for keyword in specialization_keywords):\n",
        "            current_specialization = line.strip()\n",
        "\n",
        "        # If both degree and specialization are found, append them as a pair\n",
        "        if current_degree and current_specialization:\n",
        "            degrees.append((current_degree, current_specialization))\n",
        "            current_degree = None  # Reset after pairing\n",
        "            current_specialization = None\n",
        "\n",
        "    return degrees\n",
        "\n",
        "# Extract degree names and specializations\n",
        "degrees = extract_degrees(cv_text)\n",
        "print(\"Degrees and Specializations:\")\n",
        "for degree, specialization in degrees:\n",
        "    print(f\"- Degree: {degree}, Specialization: {specialization}\")\n"
      ],
      "metadata": {
        "colab": {
          "base_uri": "https://localhost:8080/"
        },
        "id": "RybLjq4iYvtf",
        "outputId": "5e8fe2d1-c7e1-4cdb-8eb0-944e9fbfa7ea"
      },
      "execution_count": null,
      "outputs": [
        {
          "output_type": "stream",
          "name": "stdout",
          "text": [
            "Degrees and Specializations:\n",
            "- Degree: Publications and Certifications, Specialization: Faculty of Information Technology | 2016 - 2021\n"
          ]
        }
      ]
    },
    {
      "cell_type": "code",
      "source": [
        "def extract_degree_specialization(text):\n",
        "    specializations = []\n",
        "    # Define common specializations or degree areas\n",
        "    specialization_keywords = [\n",
        "        'Information Technology', 'Software Engineering', 'Computer Science', 'Mechanical Engineering',\n",
        "        'Data Science', 'Artificial Intelligence', 'Electrical Engineering', 'Civil Engineering',\n",
        "        'Business Administration', 'Marketing', 'Finance', 'Human Resource Management',\n",
        "        'Mechanical Engineering Technology', 'Cybersecurity',\n",
        "    ]\n",
        "\n",
        "    # Split the text into lines\n",
        "    lines = text.split('\\n')\n",
        "\n",
        "    for line in lines:\n",
        "        # Check if any specialization keywords are present in the line\n",
        "        for keyword in specialization_keywords:\n",
        "            if keyword.lower() in line.lower() and keyword not in specializations:\n",
        "                specializations.append(keyword)\n",
        "\n",
        "    return specializations\n",
        "\n",
        "# Extract degree specializations\n",
        "specializations = extract_degree_specialization(cv_text)\n",
        "print(\"Degree Specializations:\")\n",
        "for specialization in specializations:\n",
        "    print(f\"- {specialization}\")\n"
      ],
      "metadata": {
        "colab": {
          "base_uri": "https://localhost:8080/"
        },
        "id": "1qOsuNktaZKW",
        "outputId": "f0f7cee9-e297-4ce7-a733-f2e10deb9262"
      },
      "execution_count": null,
      "outputs": [
        {
          "output_type": "stream",
          "name": "stdout",
          "text": [
            "Degree Specializations:\n",
            "- Information Technology\n",
            "- Finance\n",
            "- Software Engineering\n"
          ]
        }
      ]
    },
    {
      "cell_type": "code",
      "source": [
        "import re\n",
        "\n",
        "def extract_gpa_cgpa_sgpa_with_labels(text):\n",
        "    # Regular expression to find GPA, CGPA, SGPA with labels and values (e.g., GPA: 3.75, CGPA: 3.80/4.00)\n",
        "    gpa_pattern = r'((?:GPA|CGPA|SGPA))\\s*[:\\-]?\\s*(\\d\\.\\d{1,2}(?:/\\d\\.\\d{1,2})?)'\n",
        "\n",
        "    # Find all matching patterns for GPA, CGPA, SGPA\n",
        "    matches = re.findall(gpa_pattern, text)\n",
        "\n",
        "    # Create a list of dictionaries with label and value\n",
        "    extracted_values = [{'label': label, 'value': value} for label, value in matches]\n",
        "\n",
        "    return extracted_values\n",
        "\n",
        "# Extract GPA, CGPA, SGPA with labels\n",
        "gpa_cgpa_sgpa_with_labels = extract_gpa_cgpa_sgpa_with_labels(cv_text)\n",
        "if gpa_cgpa_sgpa_with_labels:\n",
        "    print(\"Extracted GPA/CGPA/SGPA with labels:\")\n",
        "    for item in gpa_cgpa_sgpa_with_labels:\n",
        "        print(f\"{item['label']}: {item['value']}\")\n",
        "else:\n",
        "    print(\"No GPA/CGPA/SGPA found.\")\n",
        "\n"
      ],
      "metadata": {
        "colab": {
          "base_uri": "https://localhost:8080/"
        },
        "id": "aKK-xNfkmRqY",
        "outputId": "0b23a866-a85d-4458-84a9-b20f02269ca7"
      },
      "execution_count": null,
      "outputs": [
        {
          "output_type": "stream",
          "name": "stdout",
          "text": [
            "Extracted GPA/CGPA/SGPA with labels:\n",
            "CGPA: 3.60\n",
            "SGPA: 4.04\n"
          ]
        }
      ]
    },
    {
      "cell_type": "code",
      "source": [
        "def extract_version_control_tools(text):\n",
        "    version_control_tools = []\n",
        "    # Define common version control tools\n",
        "    version_control_keywords = [\n",
        "        'Git', 'GitHub', 'GitLab', 'Bitbucket', 'SVN', 'Subversion', 'Mercurial', 'Perforce', 'Bazaar'\n",
        "    ]\n",
        "\n",
        "    # Split the text into lines\n",
        "    lines = text.split('\\n')\n",
        "\n",
        "    # Check for version control tools mentioned in the text\n",
        "    for line in lines:\n",
        "        for keyword in version_control_keywords:\n",
        "            if keyword.lower() in line.lower() and keyword not in version_control_tools:\n",
        "                version_control_tools.append(keyword)\n",
        "\n",
        "    return version_control_tools\n",
        "\n",
        "# Extract version control tools\n",
        "version_control_tools = extract_version_control_tools(cv_text)\n",
        "print(\"Version Control Tools:\")\n",
        "for tool in version_control_tools:\n",
        "    print(f\"- {tool}\")\n",
        "\n"
      ],
      "metadata": {
        "colab": {
          "base_uri": "https://localhost:8080/"
        },
        "id": "oU5zXhvQnF7X",
        "outputId": "c91e2158-874c-492e-9265-8d4d351a5152"
      },
      "execution_count": null,
      "outputs": [
        {
          "output_type": "stream",
          "name": "stdout",
          "text": [
            "Version Control Tools:\n",
            "- Git\n",
            "- GitHub\n",
            "- Bitbucket\n"
          ]
        }
      ]
    },
    {
      "cell_type": "code",
      "source": [
        "def extract_tools_technologies(text):\n",
        "    tools_technologies = []\n",
        "    # Define a list of known tools and technologies based on your CV\n",
        "    tech_keywords = ['React.js', 'Tailwind CSS', 'C#', 'ASP.NET Core', 'MongoDB', 'Firebase', 'Azure', 'Redux',\n",
        "                     'SQL Server', 'Kubernetes', 'Docker', 'Node.js', 'Express.js', 'VS Code', 'Android Studio',\n",
        "                     'Java', 'MySQL', 'TensorFlow', 'Keras', 'Flask', 'Kotlin', 'GitHub', 'JavaScript']\n",
        "\n",
        "    # Scan text for sentences mentioning these technologies\n",
        "    sentences = text.split('\\n')\n",
        "    for sentence in sentences:\n",
        "        for keyword in tech_keywords:\n",
        "            if keyword in sentence and sentence not in tools_technologies:\n",
        "                tools_technologies.append(sentence.strip())\n",
        "    return tools_technologies\n",
        "\n",
        "tools_technologies = extract_tools_technologies(cv_text)\n",
        "print(\"Tools and Technologies:\", tools_technologies)\n"
      ],
      "metadata": {
        "colab": {
          "base_uri": "https://localhost:8080/"
        },
        "id": "rgOmS2-iuYT0",
        "outputId": "4a0df8cb-a43b-4d7a-8f1e-8f78bb0f0709"
      },
      "execution_count": null,
      "outputs": [
        {
          "output_type": "stream",
          "name": "stdout",
          "text": [
            "Tools and Technologies: ['Python, Java, C, BallerinaPROFESSIONAL SKILLS', 'JavaScript, TypeScript, Angular, React, NodeJs, ExpressJs,', 'MySQL, MongoDB, Firebase', 'GitHub, GitLab, BitBucket', 'Technologies -  Ballerina, Java, servlet, SuiteScripts, MySQL', 'Technologies -  React, Material UI, Ballerina, Java, servlet,', 'SuiteScripts, MySQL Netsuite, SuiteScripts', 'Firebase', 'Technologies -  Angular, Bootstrap, React Native, MongoDB,', 'NodeJS, AWS, Firebase realtime database, trello', 'Technologies -  Angular, Bootstrap, MySQL-RDS, Serverless-', 'Technologies -  Angular, Bootstrap, Firebase']\n"
          ]
        }
      ]
    },
    {
      "cell_type": "code",
      "source": [
        "def extract_education_details(text):\n",
        "    education_details = []\n",
        "    # Split the text into lines\n",
        "    lines = text.split('\\n')\n",
        "\n",
        "    # Keywords to identify educational information\n",
        "    education_keywords = ['University', 'BSc', 'Diploma', 'Degree', 'Education', 'Advanced Level', 'College']\n",
        "\n",
        "    current_education = None\n",
        "\n",
        "    for line in lines:\n",
        "        # Check if the line contains any education-related keywords\n",
        "        if any(keyword in line for keyword in education_keywords):\n",
        "            if current_education:\n",
        "                education_details.append(current_education.strip())\n",
        "            current_education = line.strip()\n",
        "        elif current_education:\n",
        "            current_education += \" \" + line.strip()\n",
        "\n",
        "    if current_education:\n",
        "        education_details.append(current_education.strip())  # Append the last education entry\n",
        "\n",
        "    return education_details\n",
        "\n",
        "# Extract education details\n",
        "education_details = extract_education_details(cv_text)\n",
        "print(\"Education Details:\")\n",
        "for education in education_details:\n",
        "    print(f\"- {education}\")\n"
      ],
      "metadata": {
        "colab": {
          "base_uri": "https://localhost:8080/"
        },
        "id": "xjxFJ7Yv3eGh",
        "outputId": "0cc5a062-6e5d-42fd-9ca2-6c20f3423793"
      },
      "execution_count": null,
      "outputs": [
        {
          "output_type": "stream",
          "name": "stdout",
          "text": [
            "Education Details:\n",
            "- Education Work Experience Publications and Certifications Projects 13 / 6B, Pubudugama, Kospalawinna Rd, Ratnapura. 071 - 176 53 56 vmbckscc456@gmail.com buddhikac96.github.io buddhikac96  ( LinkedIn ) buddhikac96  ( GitHub ) buddhikac96  ( Stackoverflow ) runtimeerror  ( Medium ) hackerbuddy96  ( Twitter ) Windows service wrapper Yaml configuration support XML Schema validation Tools : C#, DotNet, Visual Studio, GitHub Internal tools development - Unit testing tool Code refactoring, API Development, Project Planning - Car Rental System Tools : C#, DotNet, Angular, Visual Studio, BitBucket Conducted knowledge sharing session series (Asynchronous programming) Other activities : DS meetings, Futsal games, Pool competition Programming Languages Java, C#, Python, JavaScript, Elixir Frameworks Antlr4, DotNet, Angular DataBase MySQL, SQL, MongoDB Version Controlling Git, GitHub, BitBucket, GitHub Desktop, GitKraken Non-technical skills Leadership, Public Speaking,   Team Player Windows Service Wrapper ( WinSW ) Google Summer of Code 2020 Project : https://github.com/winsw/winsw Blog: WinSW - YAML Config Support Technologies: C#, DotNet, Visual Studio, GitHubWindows service wrapper is a tool that allows running Jenkins as a service in the Windows machine. WinSW was configured by an XML file. I updated WinSW to be configured by the YAML configuration file under GSoC2020. Simply - Research Project ( Ongoing ) Simple extensible programming language for kids Project : https://github.com/OdinsVault Technologies: Java, Antlr4, SpringBoot, ReactSimply is a web-oriented programming language that is being developed for kids to learn to program easily. Simply consists of a programming language, runtime visualizer, and a web based coding/learning platform. I am developing the source to source compiler. Calang Simple calculator based PL Project : https://github.com/buddhikac96/calang Technologies: Java, Antlr4Calang is a simple programming language that compiles into Java. Calang is an educational project that I developed to learn compiler theory.\n",
            "- University of Moratuwa Faculty of Information Technology | 2016 - 2021 SGPA - 3.28 (6th semester)\n",
            "- Sivali Central College A/L - Common Stream (Mathematics, Physics, ICT) A A B (Mathematics - B) | Z-Score - 2.37 Island 1st - Common Stream (2015) Student Developer | Google Summer of Code 2020 Jenkins Project | Windows Service Wrapper Software Engineer | Intern Eyepax IT Consulting (Pvt.) Ltd. Industry awareness sessions Java course Vicerant Institute Founder | Lecturer Review of Introductory programming languages for novice learners (Research - Ongoing) Java Application Performance and Memory Management Course (Ongoing) - (Udemy) AWS Certified Cloud Practitioner (Udemy ) Google Cloud Platform Fundamentals (Coursera) Presented in DevOps World Conf 2020 Other Skills Design Patterns, Project Planning, JIRAProjects loki Source code localizer for programming languages Project : https://github.com/odinsvault/loki Technologies: Java, YAMLloki is a tool that allows users to write programs in their native language. It allows us to localize source codes. This project is a part of Simply programming language, which allows students to learn basic programming concepts in their native language by using simple syntax style. goodyaml Schema validating tool for YAML Project : https://github.com/buddhikac96/goodyaml Technologies: C#, DotNet, YamlDotNetgoodyaml is a command-line tool that facilitates validating YAML schema. Users can use JSON schema to validate YAML schema. Quality Room IoT based room environment control system Project : https://github.com/buddhikac96/QualityRoom Technologies: Atmega32, C++, RabbitMQ, NodeJS, GrafanaQualityRoom is an IoT-based room environment quality control system that measures temperature, humidity, sound intensity, and air quality. It sends a message to the user if some parameter exceeds the pre-defined threshold value. The real-time values of the sensors are displayed in a dashboard. Find Your Tutor Web application Project : https://github.com/buddhikac96/findthetutor Technologies: Angular, TypeScript, NodeJS, MySQLFind Your Tutor is a platform that facilitates the interaction between students and private tutors. This enables the students to find private tutors according to their educational requirements and the tutors to find tuition opportunities nearby. I contributed in front-end development and system testing.Non-related referees Dr. Supunmali Ahangama Director/Undergraduate Studies, Department of Information Technology,\n",
            "- Fac of IT. University of Moratuwa, Katubedda, Moratuwa. Sri Lanka. Mobile: +94 71 486 66 52 Email: supunmali@uom.lkMr. Kasun Dissanayake Tech lead, Eyepax IT Consulting (Pvt.) Ltd. Colombo 03. Mobile: +94 71 153 8675 Email: kasun.d@eyepax.com Interests Open source contributing Blogging Sports : Cricket, Badminton, Chess Workingout Volunteering Other Experiences\n",
            "- Member - INTECS, Faculty of IT, University of Moratuwa Batch representative of the INTECS ( Level 1, Level 2 ) Company Coordinator - Are You Ready (2018) Achievements 1st Place - Tech Coders v1.0   (2018) Competitive programming competition organized by tech seekers community for university students. Bronze Medal - Week of Code 30 Silver Medal - Hour Rank 26 1 hour rapid competitive programming competition by Hackerrank.com 2nd Place - Mora Xtream coding competition Competitive programming competition organized by IEEE\n",
            "- society of   University of Moratuwa 2nd Place - Coderush 2k17 (2017) Competitive programming competition organized by faculty\n",
            "- of IT of University of Moratuwa 1 week long competitive programming competition by Hackerrank.com Bronze Medal - Week of Code 34 Bronze Medal - Week of Code 36 Finalist - RealHack 1.0 Hackathon competition organized by university of Kelaniya Finalist - Hackstat 2.0 Datathon organized by the Stat Circle of the\n",
            "- University of Colombo 1st Place - Orchestra (2013) All island school music competition 1st Place - Choir (2013) All island school music competition 1st Place - School Chess Championship (Under 11) 1st Place - Open Chess Championship (Kalutara Chess Club) (Under 13) Industry Awareness Sessions\n",
            "- Sivali Central College, Ferguson High School, Mihindu Vidyalaya Organized by Vicerant Finalist - HackDev 2020 ( Ongoing ) National youth innovation challenge Board Price - School Chess Championship ( 1st Board ) 3rd Place - School Badminton Championship (Sabaragamuwa Province) Industry Awareness Sessions Senarath Paranawithaana National School Organized by INTECS Member - School Western Band President - School Science Club Sport activities (School) - Chess, Boxing, Badminton, Gymnastic, Cricket, Futsal 3rd Place - Orchestra (2012) All island school music competition\n"
          ]
        }
      ]
    },
    {
      "cell_type": "code",
      "source": [
        "def extract_advanced_and_bsc_degrees(text):\n",
        "    degrees = []\n",
        "    # Define keywords related to Advanced Level (A/L) and 1st Degree (BSc)\n",
        "    education_keywords = [\n",
        "        'Advanced Level', 'A/L', 'G.C.E. Advanced Level', 'BSc', 'Bachelor', 'First Degree', 'Honours', 'Hons', 'B.Sc'\n",
        "    ]\n",
        "\n",
        "    # Split the text into lines\n",
        "    lines = text.split('\\n')\n",
        "\n",
        "    for line in lines:\n",
        "        # Check if the line contains any of the education-related keywords\n",
        "        if any(keyword.lower() in line.lower() for keyword in education_keywords):\n",
        "            degrees.append(line.strip())\n",
        "\n",
        "    return degrees\n",
        "\n",
        "# Extract Advanced Level and BSc (1st Degree)\n",
        "advanced_and_bsc_degrees = extract_advanced_and_bsc_degrees(cv_text)\n",
        "if advanced_and_bsc_degrees:\n",
        "    print(\"Extracted Advanced Level and 1st Degree (BSc):\")\n",
        "    for degree in advanced_and_bsc_degrees:\n",
        "        print(f\"- {degree}\")\n",
        "else:\n",
        "    print(\"No Advanced Level or 1st Degree (BSc) found.\")\n"
      ],
      "metadata": {
        "colab": {
          "base_uri": "https://localhost:8080/"
        },
        "id": "6Yy26BIFvf8M",
        "outputId": "28eda36c-d18f-4911-b727-f3d3129c698e"
      },
      "execution_count": null,
      "outputs": [
        {
          "output_type": "stream",
          "name": "stdout",
          "text": [
            "Extracted Advanced Level and 1st Degree (BSc):\n",
            "- A/L - Common Stream (Mathematics, Physics, ICT)\n"
          ]
        }
      ]
    },
    {
      "cell_type": "code",
      "source": [
        "\n"
      ],
      "metadata": {
        "id": "Gozw3vgwfJfg"
      },
      "execution_count": null,
      "outputs": []
    },
    {
      "cell_type": "code",
      "source": [
        "def extract_certifications(text):\n",
        "    certifications = []\n",
        "    # Split the text into lines\n",
        "    lines = text.split('\\n')\n",
        "\n",
        "    # Keywords to identify certifications\n",
        "    certification_keywords = ['certification', 'certified', 'Certified', 'Certificate']\n",
        "\n",
        "    current_certification = None\n",
        "\n",
        "    for line in lines:\n",
        "        # Check if the line contains any certification-related keywords\n",
        "        if any(keyword in line for keyword in certification_keywords):\n",
        "            if current_certification:\n",
        "                certifications.append(current_certification.strip())\n",
        "            current_certification = line.strip()\n",
        "        elif current_certification:\n",
        "            current_certification += \" \" + line.strip()\n",
        "\n",
        "    if current_certification:\n",
        "        certifications.append(current_certification.strip())  # Append the last certification entry\n",
        "\n",
        "    return certifications\n",
        "\n",
        "# Extract certifications\n",
        "certifications = extract_certifications(cv_text)\n",
        "print(\"Certifications:\")\n",
        "for certification in certifications:\n",
        "    print(f\"- {certification}\")\n"
      ],
      "metadata": {
        "colab": {
          "base_uri": "https://localhost:8080/"
        },
        "id": "uDewrg3h-0n6",
        "outputId": "4ff5c5e9-4708-4dfa-9f65-39abcf7aed6d"
      },
      "execution_count": null,
      "outputs": [
        {
          "output_type": "stream",
          "name": "stdout",
          "text": [
            "Certifications:\n"
          ]
        }
      ]
    },
    {
      "cell_type": "code",
      "source": [
        "import re\n",
        "from datetime import datetime\n",
        "\n",
        "def extract_years_of_experience(text):\n",
        "    # Find all year ranges in the format YYYY - YYYY or YYYY - Present\n",
        "    years = re.findall(r'(\\d{4})\\s*-\\s*(\\d{4}|Present)', text)\n",
        "\n",
        "    total_years = 0\n",
        "    current_year = datetime.now().year\n",
        "\n",
        "    for start, end in years:\n",
        "        start_year = int(start)\n",
        "        if end == 'Present':\n",
        "            end_year = current_year\n",
        "        else:\n",
        "            end_year = int(end)\n",
        "\n",
        "        total_years += (end_year - start_year)\n",
        "\n",
        "    return total_years\n",
        "\n",
        "# Extract years of experience\n",
        "years_of_experience = extract_years_of_experience(cv_text)\n",
        "print(f\"Total Years of Work Experience: {years_of_experience} years\")\n"
      ],
      "metadata": {
        "colab": {
          "base_uri": "https://localhost:8080/"
        },
        "id": "v-mniFeg_H_S",
        "outputId": "b252440b-b990-4b3a-dbcb-f9a5f9a2d2f1"
      },
      "execution_count": null,
      "outputs": [
        {
          "output_type": "stream",
          "name": "stdout",
          "text": [
            "Total Years of Work Experience: 5 years\n"
          ]
        }
      ]
    },
    {
      "cell_type": "code",
      "source": [
        "def extract_projects(text):\n",
        "    projects = []\n",
        "    # Split the text into lines for better structure identification\n",
        "    lines = text.split('\\n')\n",
        "\n",
        "    # Keywords to detect the start of a project description\n",
        "    project_keywords = ['Developed', 'Designed', 'Created', 'Constructed', 'Project', 'Application', 'System', 'Platform']\n",
        "\n",
        "    current_project = None\n",
        "\n",
        "    for line in lines:\n",
        "        # Check if the line contains any project-related keywords\n",
        "        if any(keyword in line for keyword in project_keywords):\n",
        "            if current_project:\n",
        "                projects.append(current_project.strip())\n",
        "            current_project = line.strip()\n",
        "        elif current_project:\n",
        "            current_project += \" \" + line.strip()\n",
        "\n",
        "    if current_project:\n",
        "        projects.append(current_project.strip())  # Append the last project\n",
        "\n",
        "    return projects\n",
        "\n",
        "# Extract projects\n",
        "projects = extract_projects(cv_text)\n",
        "print(\"Projects:\")\n",
        "for project in projects:\n",
        "    print(f\"- {project}\")\n"
      ],
      "metadata": {
        "colab": {
          "base_uri": "https://localhost:8080/"
        },
        "id": "ltGhyyPP0Sxq",
        "outputId": "67bb55cd-2acc-4ccc-b43a-5105d796cc68"
      },
      "execution_count": null,
      "outputs": [
        {
          "output_type": "stream",
          "name": "stdout",
          "text": [
            "Projects:\n",
            "- (Internship Project)  | 2019 Aug - 2019 Dec TravelPro is a web application that facilitates consolidators and travel agencies to operate effectively and efficiently in the travel industry. This system helps consolidators/ag encies to manage flight, hotel and package bookings. Technologies : ADO.NET  MVC,  JQuery,  Ajax , MSSQL  HUTCH ISMS - TELECOMMUNICATION INFRASTRUCTURE SHARING MANAGEMENT SYSTEM\n",
            "- (Internship Project) | 2019 Dec - 2020 Feb Hutch ISMS have a centralize system to keep tower infrastructure information which automated workflow system for Hutch tower sharing operations. Tenants can log from TISMS application and request for sites. Technologies : C#, ASP.NET Web Forms, Oracle  CHANNELING CENTER MANAGEMENT SYSTEM\n",
            "- (Level 2 - Industry Based Project) | 2018 A web -based system for centralization of private channeling centers. Both web application and mobile application is used in this project. Medical centers are registered in web application and the mobile application is used by the doctors visiting to the medical centers to view patient information. Technologies : C#, ASP.NET  MVC, My SQL  EDUCATION    No.233/A, “Srimali”, Midigama, Ahangama, SriLanka.  +94 773279812 chathumahesha94@gmail.com CHATHURANGI JAYAWARDANA SOFTWARE ENGINEER ABOUT ME  CHATHURANGI JAYAWARDANA  A responsible, self -motivated, flexible, hardworking, dedicated undergraduate who is willing to accept challenges and wish to explore new technologies in the field of Information Technology and seeking for opportunity in field of software e ngineering. CHATHURANGI JAYAWARDANA  A responsible,  hardworking , dedicated undergraduate who is willing to accept challenges and wish to explore new technologies in the field of Information Technology and seeking for an opportunity in  field of Software Engineering. CONTACT ME  UNIVERSITY OF MORATUWA - FACULTY OF INFORMATION TECHNOLOGY Reading for B.Sc. (Hons .) Degree in Information Technology at University of Moratuwa ( Expected 2021 )  MR / SUJATHA VIDYALAYA  - MATARA G.C.E. Advanced Level  - Physical Science Stream (2015) Results: Chemistry - A   Combined Mathematics - B   Physics - B Z-score: 1.6746  G.C.E. Ordinary Level (2010) Results: 9  A’s       http s:// ww w.li nke din. com /in/ chat hura ngi- jaya war dan a- 6a8 b45 16b https://www.linkedin.com/in/ chathurangi -jayawardana  https://github.com/Chathurangi Jayawardana  https://www.hackerrank.com/ chathumahesha94  https://chathurangijayawardana. medium.com/   https://www.sololearn.com/ Profile/Chathurangi  https://chathurangijayawardana. github.io/MyWebSite/   WORK EXPERIENCE TRAINEE SOFTWARE ENGINEER - INFOSOFT LANKA (PVT.) LTD (2019 August - 2020 February)  TRAINEE STAFF ASSISTANT - PEOPLE’S BANK, KOGGALA BRANCH, GALLE (2016 January - 2016 October)  C - Organizational Skills  TECHNICAL SKILLS Programming languages : Java, C,  C#, Python  Web Development : ASP.NET MVC, ADO.NET, ASP.NET Web Forms, HTML, JavaScript, CSS, JQuery , PHP  Databases: MySQL, MSSQL\n",
            "- Version Control Systems: Git  IDE: Visual Studio, NetBeans, Eclipse, PyCharm  Others: Wondershare Filmora,  Cisco Packet Tracer,Blender,WEKA, Protégé -OWL, NLTK, OpenCV  Related Course Works : NLP, AI, Semantic Web,Data mining, Image Processing, Enterprise\n",
            "- Application Development  NON -TECHNICAL SKILLS  Web Development  Blog Writing  Mathematics  Dancing  REFEREES Mr. S.C. Premaratne Department Head /Senior Lecturer Faculty of Information Technology University of Moratuwa . Mobile: +94 714413362 E-mail: samindap@uom.lk  Mr. Sathya Ganepola COO/Software Architect Infosoft Lanka (Pvt.) Ltd Nawam Mawatha, Colombo 02. Mobile: +94 718099045 E-mail: sathya@infosoft.lk  QUICK FOODIE - FOOD ORDERING APP\n",
            "- (Individual  Project) | 2020 A simple web application whic h can be used to manage food  in a restaurant. Customers can login to system externally and order food and pay online. Technologies:  ASP.NET Web Forms, MSSQL  WATER QUALITY MEASURING DEVICE | 2019 A microcontroller -based project is used to measure water quality by using pH, turbidity and temperature values. Technologies : C, Atmega 32A,  Sensor Module s INDEPENDENT RESEARCH ON REAL -TIME BIDDING ONLINE ADVERTISING (Level 3 - Independent Study)  | 2019 A critical evaluation and a literature review on existing methodologies for real time bidding in online advertising.  AUTOMATED PADDY SPREADING UNIT\n",
            "- (Level 1 - Hardware Project) | 2017 A microcontroller -based hardware system with an automated paddy spreading unit develop using microcontroller which is capable of carrying and spreading paddy seeds. Technologies : C, Atmega 32A    ACHIEVEMENTS  Placed among the top 30 teams Mor a Xtreme 3.0 Coding Competition - 2018  Participated in  Hack Moral v1.0 Coding competition - 2018  Participat ed in  Fit Code Rush Coding Competition - 2018  Participated in Fit Code Rush Coding Competition - 2020 OTHER EXPERIENCES  Followed six month Java Programming Language Course at Dekma Institute,  Matara  - 2016 Jan -2016 Jun  Company coordin ator in Fit Future Careers Official Career Fair, Faculty of Information Technology,  University of Moratuwa  - 2018  Open Source Contributor for the Hacktoberfest - 2018 &  2019  Active Blogger: https://chathurangijayawardana.blogspot.com/  and https://chathurangijayawardana.medium.com/  Passed the Basi c English Language Course  with 4 Distinction Passes for Reading, Listening, Speaking & Writing at B -HOOD English Institute, Matara - 2014  Passed the Basic Tamil Language Course with a Distinction pass  at Dakuna E ducational Institute,  Matara - 2014  Member of the Senior Prefect board i n School and Member of the Senior Prefect board in Dhamma School - 2009 & 2010  INTERESTS   CERTIFICATIONS   Succe ssfully completed SCRUM Foundation Professional Certificate  Succe ssfully completed Kanban  Foundation Certificate  Achieved Gold badges and Certificates for Java, C, Problem Solving and SQL in HackerRank - HackerRank Profile  Followed  Python3,  C, C#, C++, Java,  HTML, PHP, JS , React  and JQuery cert ification cours es in SoloLearn - SoloLearn Profile  Completed certification courses which specialization for web development in Udemy  Completed Data Science based certification courses in Analytics Vidhya  Team Work  Leadership  Quick Learner  Time Management\n"
          ]
        }
      ]
    },
    {
      "cell_type": "code",
      "source": [
        "def extract_work_experiences(text):\n",
        "    work_experiences = []\n",
        "    # Split the text into lines\n",
        "    lines = text.split('\\n')\n",
        "\n",
        "    # Keywords that signal the beginning of work experience descriptions\n",
        "    experience_keywords = ['Software Engineer', 'Intern', 'Key role', 'Contributed', 'Worked on', 'Project']\n",
        "\n",
        "    current_experience = None\n",
        "\n",
        "    for line in lines:\n",
        "        # Check if the line contains any work experience-related keywords\n",
        "        if any(keyword in line for keyword in experience_keywords):\n",
        "            if current_experience:\n",
        "                work_experiences.append(current_experience.strip())\n",
        "            current_experience = line.strip()\n",
        "        elif current_experience:\n",
        "            current_experience += \" \" + line.strip()\n",
        "\n",
        "    if current_experience:\n",
        "        work_experiences.append(current_experience.strip())  # Append the last experience\n",
        "\n",
        "    return work_experiences\n",
        "\n",
        "# Extract work experiences\n",
        "work_experiences = extract_work_experiences(cv_text)\n",
        "print(\"Work Experiences:\")\n",
        "for experience in work_experiences:\n",
        "    print(f\"- {experience}\")\n"
      ],
      "metadata": {
        "colab": {
          "base_uri": "https://localhost:8080/"
        },
        "id": "7oUVsdiQ3CK6",
        "outputId": "be5baa52-db3f-4713-f0f8-86c8baf2afc2"
      },
      "execution_count": null,
      "outputs": [
        {
          "output_type": "stream",
          "name": "stdout",
          "text": [
            "Work Experiences:\n",
            "- Projects 13 / 6B, Pubudugama, Kospalawinna Rd, Ratnapura. 071 - 176 53 56 vmbckscc456@gmail.com buddhikac96.github.io buddhikac96  ( LinkedIn ) buddhikac96  ( GitHub ) buddhikac96  ( Stackoverflow ) runtimeerror  ( Medium ) hackerbuddy96  ( Twitter ) Windows service wrapper Yaml configuration support XML Schema validation Tools : C#, DotNet, Visual Studio, GitHub\n",
            "- Internal tools development - Unit testing tool\n",
            "- Code refactoring, API Development, Project Planning - Car Rental System Tools : C#, DotNet, Angular, Visual Studio, BitBucket Conducted knowledge sharing session series (Asynchronous programming) Other activities : DS meetings, Futsal games, Pool competition Programming Languages Java, C#, Python, JavaScript, Elixir Frameworks Antlr4, DotNet, Angular DataBase MySQL, SQL, MongoDB Version Controlling Git, GitHub, BitBucket, GitHub Desktop, GitKraken Non-technical skills Leadership, Public Speaking,   Team Player Windows Service Wrapper ( WinSW ) Google Summer of Code 2020\n",
            "- Project : https://github.com/winsw/winsw Blog: WinSW - YAML Config Support Technologies: C#, DotNet, Visual Studio, GitHubWindows service wrapper is a tool that allows running Jenkins as a service in the Windows machine. WinSW was configured by an XML file. I updated WinSW to be configured by the YAML configuration file under GSoC2020.\n",
            "- Simply - Research Project ( Ongoing ) Simple extensible programming language for kids\n",
            "- Project : https://github.com/OdinsVault Technologies: Java, Antlr4, SpringBoot, ReactSimply is a web-oriented programming language that is being developed for kids to learn to program easily. Simply consists of a programming language, runtime visualizer, and a web based coding/learning platform. I am developing the source to source compiler. Calang Simple calculator based PL\n",
            "- Project : https://github.com/buddhikac96/calang Technologies: Java, Antlr4Calang is a simple programming language that compiles into Java. Calang is an educational project that I developed to learn compiler theory. University of Moratuwa Faculty of Information Technology | 2016 - 2021 SGPA - 3.28 (6th semester) Sivali Central College A/L - Common Stream (Mathematics, Physics, ICT) A A B (Mathematics - B) | Z-Score - 2.37 Island 1st - Common Stream (2015) Student Developer | Google Summer of Code 2020\n",
            "- Jenkins Project | Windows Service Wrapper\n",
            "- Software Engineer | Intern Eyepax IT Consulting (Pvt.) Ltd. Industry awareness sessions Java course Vicerant Institute Founder | Lecturer Review of Introductory programming languages for novice learners (Research - Ongoing) Java Application Performance and Memory Management Course (Ongoing) - (Udemy) AWS Certified Cloud Practitioner (Udemy ) Google Cloud Platform Fundamentals (Coursera) Presented in DevOps World Conf 2020 Other Skills\n",
            "- Design Patterns, Project Planning, JIRAProjects loki Source code localizer for programming languages\n",
            "- Project : https://github.com/odinsvault/loki Technologies: Java, YAMLloki is a tool that allows users to write programs in their native language. It allows us to localize source codes. This project is a part of Simply programming language, which allows students to learn basic programming concepts in their native language by using simple syntax style. goodyaml Schema validating tool for YAML\n",
            "- Project : https://github.com/buddhikac96/goodyaml Technologies: C#, DotNet, YamlDotNetgoodyaml is a command-line tool that facilitates validating YAML schema. Users can use JSON schema to validate YAML schema. Quality Room IoT based room environment control system\n",
            "- Project : https://github.com/buddhikac96/QualityRoom Technologies: Atmega32, C++, RabbitMQ, NodeJS, GrafanaQualityRoom is an IoT-based room environment quality control system that measures temperature, humidity, sound intensity, and air quality. It sends a message to the user if some parameter exceeds the pre-defined threshold value. The real-time values of the sensors are displayed in a dashboard. Find Your Tutor Web application\n",
            "- Project : https://github.com/buddhikac96/findthetutor Technologies: Angular, TypeScript, NodeJS, MySQLFind Your Tutor is a platform that facilitates the interaction between students and private tutors. This enables the students to find private tutors according to their educational requirements and the tutors to find tuition opportunities nearby. I contributed in front-end development and system testing.Non-related referees Dr. Supunmali Ahangama Director/Undergraduate Studies, Department of Information Technology, Fac of IT. University of Moratuwa, Katubedda, Moratuwa. Sri Lanka. Mobile: +94 71 486 66 52 Email: supunmali@uom.lkMr. Kasun Dissanayake Tech lead, Eyepax IT Consulting (Pvt.) Ltd. Colombo 03. Mobile: +94 71 153 8675 Email: kasun.d@eyepax.com Interests Open source contributing Blogging Sports : Cricket, Badminton, Chess Workingout Volunteering Other Experiences Member - INTECS, Faculty of IT, University of Moratuwa Batch representative of the INTECS ( Level 1, Level 2 ) Company Coordinator - Are You Ready (2018) Achievements 1st Place - Tech Coders v1.0   (2018) Competitive programming competition organized by tech seekers community for university students. Bronze Medal - Week of Code 30 Silver Medal - Hour Rank 26 1 hour rapid competitive programming competition by Hackerrank.com 2nd Place - Mora Xtream coding competition Competitive programming competition organized by IEEE society of   University of Moratuwa 2nd Place - Coderush 2k17 (2017) Competitive programming competition organized by faculty of IT of University of Moratuwa 1 week long competitive programming competition by Hackerrank.com Bronze Medal - Week of Code 34 Bronze Medal - Week of Code 36 Finalist - RealHack 1.0 Hackathon competition organized by university of Kelaniya Finalist - Hackstat 2.0 Datathon organized by the Stat Circle of the University of Colombo 1st Place - Orchestra (2013) All island school music competition 1st Place - Choir (2013) All island school music competition 1st Place - School Chess Championship (Under 11) 1st Place - Open Chess Championship (Kalutara Chess Club) (Under 13) Industry Awareness Sessions Sivali Central College, Ferguson High School, Mihindu Vidyalaya Organized by Vicerant Finalist - HackDev 2020 ( Ongoing ) National youth innovation challenge Board Price - School Chess Championship ( 1st Board ) 3rd Place - School Badminton Championship (Sabaragamuwa Province) Industry Awareness Sessions Senarath Paranawithaana National School Organized by INTECS Member - School Western Band President - School Science Club Sport activities (School) - Chess, Boxing, Badminton, Gymnastic, Cricket, Futsal 3rd Place - Orchestra (2012) All island school music competition\n"
          ]
        }
      ]
    },
    {
      "cell_type": "code",
      "source": [
        "import re\n",
        "\n",
        "def extract_certifications(text):\n",
        "    certifications = []\n",
        "    # Define common platforms and keywords related to certifications\n",
        "    certification_keywords = [\n",
        "        'Coursera', 'Udemy', 'AWS', 'Amazon Web Services', 'Google', 'LinkedIn', 'Microsoft',\n",
        "        'Azure', 'IBM', 'edX', 'Pluralsight', 'Udacity', 'HubSpot', 'Salesforce', 'Oracle', 'Scrum', 'Certified', 'Certification'\n",
        "    ]\n",
        "\n",
        "    # Split the text into lines\n",
        "    lines = text.split('\\n')\n",
        "\n",
        "    for line in lines:\n",
        "        # Check if the line contains any certification-related keywords\n",
        "        if any(keyword.lower() in line.lower() for keyword in certification_keywords):\n",
        "            certifications.append(line.strip())\n",
        "\n",
        "    return certifications\n",
        "\n",
        "# Extract certifications\n",
        "certifications = extract_certifications(cv_text)\n",
        "if certifications:\n",
        "    print(\"Extracted Certifications:\")\n",
        "    for cert in certifications:\n",
        "        print(f\"- {cert}\")\n",
        "else:\n",
        "    print(\"No certifications found.\")\n"
      ],
      "metadata": {
        "colab": {
          "base_uri": "https://localhost:8080/"
        },
        "id": "Z_Qi55Rktdx6",
        "outputId": "00932ae3-083d-44d1-9c30-9aa9602a157c"
      },
      "execution_count": null,
      "outputs": [
        {
          "output_type": "stream",
          "name": "stdout",
          "text": [
            "Extracted Certifications:\n",
            "- LINKEDIN\n",
            "- https://www.linkedin.com/in/charuka-herath/\n",
            "- AWS\n",
            "- Jira, Scrum\n",
            "- https://play.google.com/store/apps/details?\n",
            "- NodeJS, AWS, Firebase realtime database, trello\n",
            "- Python, AWS, trello\n",
            "- foundation and Microsoft Sri Lanka\n"
          ]
        }
      ]
    },
    {
      "cell_type": "code",
      "source": [
        "def extract_ai_ml_related_development(text):\n",
        "    ai_ml_related = []\n",
        "    # Define common AI/ML-related keywords\n",
        "    ai_ml_keywords = [\n",
        "        'Artificial Intelligence', 'Machine Learning', 'Deep Learning', 'Neural Networks', 'AI', 'ML',\n",
        "        'Data Science', 'Natural Language Processing', 'NLP', 'Computer Vision', 'Reinforcement Learning',\n",
        "        'Supervised Learning', 'Unsupervised Learning', 'TensorFlow', 'Keras', 'PyTorch', 'scikit-learn',\n",
        "        'OpenCV', 'Pandas', 'NumPy', 'Matplotlib', 'Seaborn', 'XGBoost', 'LightGBM', 'Data Mining', 'Pattern Recognition'\n",
        "    ]\n",
        "\n",
        "    # Split the text into lines\n",
        "    lines = text.split('\\n')\n",
        "\n",
        "    for line in lines:\n",
        "        # Check if the line contains any AI/ML-related keywords\n",
        "        if any(keyword.lower() in line.lower() for keyword in ai_ml_keywords):\n",
        "            ai_ml_related.append(line.strip())\n",
        "\n",
        "    return ai_ml_related\n",
        "\n",
        "# Extract AI and ML related development\n",
        "ai_ml_related_development = extract_ai_ml_related_development(cv_text)\n",
        "if ai_ml_related_development:\n",
        "    print(\"Extracted AI/ML Related Development:\")\n",
        "    for item in ai_ml_related_development:\n",
        "        print(f\"- {item}\")\n",
        "else:\n",
        "    print(\"No AI/ML related development found.\")\n"
      ],
      "metadata": {
        "colab": {
          "base_uri": "https://localhost:8080/"
        },
        "id": "dESMWz2Tu_p9",
        "outputId": "87a0a031-25e2-4d28-ac97-e3c837036384"
      },
      "execution_count": null,
      "outputs": [
        {
          "output_type": "stream",
          "name": "stdout",
          "text": [
            "Extracted AI/ML Related Development:\n",
            "- vmbckscc456@gmail.com\n",
            "- Windows service wrapper Yaml configuration support\n",
            "- XML Schema validation\n",
            "- Blog: WinSW - YAML Config Support\n",
            "- service in the Windows machine. WinSW was configured by an XML\n",
            "- file. I updated WinSW to be configured by the YAML configuration file\n",
            "- Technologies: Java, YAMLloki is a tool that allows users to write programs in their native\n",
            "- goodyaml\n",
            "- Schema validating tool for YAML\n",
            "- Project : https://github.com/buddhikac96/goodyaml\n",
            "- Technologies: C#, DotNet, YamlDotNetgoodyaml is a command-line tool that facilitates validating YAML\n",
            "- schema. Users can use JSON schema to validate YAML schema.\n",
            "- system that measures temperature, humidity, sound intensity, and air\n",
            "- Email: supunmali@uom.lkMr. Kasun Dissanayake\n",
            "- Email: kasun.d@eyepax.com\n"
          ]
        }
      ]
    },
    {
      "cell_type": "code",
      "source": [
        "import re\n",
        "import spacy\n",
        "\n",
        "# Load spaCy model for NLP\n",
        "nlp = spacy.load(\"en_core_web_sm\")\n",
        "\n",
        "def extract_open_source_participation_count(text):\n",
        "    # List of famous open-source projects\n",
        "    open_source_projects = [\n",
        "        'Linux', 'Apache', 'Mozilla Firefox', 'LibreOffice', 'GIMP', 'VLC Media Player',\n",
        "        'Krita', 'WordPress', 'TensorFlow', 'Kubernetes', 'Docker', 'React', 'Angular',\n",
        "        'Django', 'Flask', 'Ruby on Rails', 'OpenCV', 'Pandas', 'NumPy', 'Node.js',\n",
        "        'Bootstrap', 'jQuery', 'OpenStack', 'Prometheus', 'Grafana', 'Matplotlib',\n",
        "        'Pytorch', 'Ruby', 'PostgreSQL', 'MySQL', 'MariaDB', 'Redis'\n",
        "    ]\n",
        "\n",
        "    # Keywords indicating participation in open source projects\n",
        "    keywords = [\n",
        "        'open source', 'contributed to', 'participated in', 'worked on',\n",
        "        'helped develop', 'engaged in', 'collaborated on'\n",
        "    ]\n",
        "\n",
        "    # Compile a regex to find numbers followed by relevant keywords\n",
        "    pattern = re.compile(r'(\\d+)\\s+(?:open\\s+source\\s+)?(?:project[s]?)|(?:contributed\\s+to|participated\\s+in|worked\\s+on)', re.IGNORECASE)\n",
        "\n",
        "    # Initialize a count variable\n",
        "    count = 0\n",
        "\n",
        "    # Run the regex pattern through the text\n",
        "    matches = pattern.findall(text)\n",
        "\n",
        "    # Extract numbers from matches and accumulate the count\n",
        "    for match in matches:\n",
        "        if match:\n",
        "            count += int(match)\n",
        "\n",
        "    # Use spaCy for additional contextual understanding\n",
        "    doc = nlp(text)\n",
        "    for sent in doc.sents:\n",
        "        sentence_text = sent.text.lower()\n",
        "        if any(keyword in sentence_text for keyword in keywords):\n",
        "            # Check for mentions of specific projects\n",
        "            for project in open_source_projects:\n",
        "                if project.lower() in sentence_text:\n",
        "                    # Count occurrences of this project and add to count\n",
        "                    count += sentence_text.count(project.lower())\n",
        "            # Find numerical entities within the sentence\n",
        "            for ent in sent.ents:\n",
        "                if ent.label_ == \"CARDINAL\":  # spaCy's label for numbers\n",
        "                    count += int(ent.text)\n",
        "\n",
        "    return count\n",
        "\n",
        "# Example usage\n",
        "text = \"\"\"\n",
        "I have participated in 5 open source projects, including contributions to the Linux kernel, and I have also worked on projects like TensorFlow and Docker.\n",
        "Additionally, I collaborated on 2 projects with Mozilla Firefox.\n",
        "\"\"\"\n",
        "open_source_count = extract_open_source_participation_count(cv_text)\n",
        "print(\"Number of Open Source Projects Participated In:\", open_source_count)\n"
      ],
      "metadata": {
        "colab": {
          "base_uri": "https://localhost:8080/"
        },
        "id": "HgRTST0Ywd3n",
        "outputId": "f040a863-ab6e-44d9-b0e2-2f2072284cb3"
      },
      "execution_count": null,
      "outputs": [
        {
          "output_type": "stream",
          "name": "stdout",
          "text": [
            "Number of Open Source Projects Participated In: 2091\n"
          ]
        }
      ]
    },
    {
      "cell_type": "code",
      "source": [
        "print(\"Email:\", contact_info['email'])\n",
        "print(\"GitHub:\", contact_info['github'])\n",
        "print(\"LinkedIn:\", contact_info['linkedin'])\n",
        "print(\"Work Experience:\", work_experience)\n",
        "print(\"Tools and Technologies:\", tools_technologies)\n",
        "print(\"Education:\", education_info)\n",
        "print(\"Certifications:\", certifications_info)\n",
        "print(f\"Years of Experience: {years_of_experience} years\")\n"
      ],
      "metadata": {
        "colab": {
          "base_uri": "https://localhost:8080/",
          "height": 211
        },
        "id": "HcY2SLzjszQd",
        "outputId": "f514ab81-9eeb-4b33-b338-73370088d940"
      },
      "execution_count": null,
      "outputs": [
        {
          "output_type": "error",
          "ename": "NameError",
          "evalue": "name 'contact_info' is not defined",
          "traceback": [
            "\u001b[0;31m---------------------------------------------------------------------------\u001b[0m",
            "\u001b[0;31mNameError\u001b[0m                                 Traceback (most recent call last)",
            "\u001b[0;32m<ipython-input-30-556d50a8f933>\u001b[0m in \u001b[0;36m<cell line: 1>\u001b[0;34m()\u001b[0m\n\u001b[0;32m----> 1\u001b[0;31m \u001b[0mprint\u001b[0m\u001b[0;34m(\u001b[0m\u001b[0;34m\"Email:\"\u001b[0m\u001b[0;34m,\u001b[0m \u001b[0mcontact_info\u001b[0m\u001b[0;34m[\u001b[0m\u001b[0;34m'email'\u001b[0m\u001b[0;34m]\u001b[0m\u001b[0;34m)\u001b[0m\u001b[0;34m\u001b[0m\u001b[0;34m\u001b[0m\u001b[0m\n\u001b[0m\u001b[1;32m      2\u001b[0m \u001b[0mprint\u001b[0m\u001b[0;34m(\u001b[0m\u001b[0;34m\"GitHub:\"\u001b[0m\u001b[0;34m,\u001b[0m \u001b[0mcontact_info\u001b[0m\u001b[0;34m[\u001b[0m\u001b[0;34m'github'\u001b[0m\u001b[0;34m]\u001b[0m\u001b[0;34m)\u001b[0m\u001b[0;34m\u001b[0m\u001b[0;34m\u001b[0m\u001b[0m\n\u001b[1;32m      3\u001b[0m \u001b[0mprint\u001b[0m\u001b[0;34m(\u001b[0m\u001b[0;34m\"LinkedIn:\"\u001b[0m\u001b[0;34m,\u001b[0m \u001b[0mcontact_info\u001b[0m\u001b[0;34m[\u001b[0m\u001b[0;34m'linkedin'\u001b[0m\u001b[0;34m]\u001b[0m\u001b[0;34m)\u001b[0m\u001b[0;34m\u001b[0m\u001b[0;34m\u001b[0m\u001b[0m\n\u001b[1;32m      4\u001b[0m \u001b[0mprint\u001b[0m\u001b[0;34m(\u001b[0m\u001b[0;34m\"Work Experience:\"\u001b[0m\u001b[0;34m,\u001b[0m \u001b[0mwork_experience\u001b[0m\u001b[0;34m)\u001b[0m\u001b[0;34m\u001b[0m\u001b[0;34m\u001b[0m\u001b[0m\n\u001b[1;32m      5\u001b[0m \u001b[0mprint\u001b[0m\u001b[0;34m(\u001b[0m\u001b[0;34m\"Tools and Technologies:\"\u001b[0m\u001b[0;34m,\u001b[0m \u001b[0mtools_technologies\u001b[0m\u001b[0;34m)\u001b[0m\u001b[0;34m\u001b[0m\u001b[0;34m\u001b[0m\u001b[0m\n",
            "\u001b[0;31mNameError\u001b[0m: name 'contact_info' is not defined"
          ]
        }
      ]
    },
    {
      "cell_type": "code",
      "source": [],
      "metadata": {
        "id": "F8e-ci3Ls5jT"
      },
      "execution_count": null,
      "outputs": []
    }
  ]
}